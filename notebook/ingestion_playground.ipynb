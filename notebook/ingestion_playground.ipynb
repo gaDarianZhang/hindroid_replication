{
 "cells": [
  {
   "cell_type": "code",
   "execution_count": 1,
   "metadata": {},
   "outputs": [],
   "source": [
    "import requests\n",
    "import re\n",
    "import glob, os, shutil\n",
    "import gzip\n",
    "import subprocess\n",
    "from bs4 import BeautifulSoup\n",
    "import random"
   ]
  },
  {
   "cell_type": "markdown",
   "metadata": {},
   "source": [
    "### Part 3.1 Create a List of Android Apps"
   ]
  },
  {
   "cell_type": "code",
   "execution_count": 2,
   "metadata": {},
   "outputs": [],
   "source": [
    "def get_submap_xmls(sitemap):\n",
    "    resp = requests.get(sitemap)\n",
    "    soup = BeautifulSoup(resp.content, 'xml')\n",
    "    url = soup.find_all('loc') \n",
    "    result = []\n",
    "    for link in url:\n",
    "        result += [link.get_text()]\n",
    "    return result\n",
    "#extract categories list\n",
    "def category(link_lst):\n",
    "    result = [] \n",
    "    for xml in link_lst:\n",
    "        result += [re.search('(?<=sitemaps\\/)(.*)(?=\\-\\d)|(?<=sitemaps\\/)(.*)(?=\\.xml)',xml).groups()[1]]\n",
    "    return [i for i in result if i] \n",
    "\n",
    "\n",
    "#get all the gz files from each categories\n",
    "def sample_from_cat(categories): \n",
    "    soups = []\n",
    "    for c in categories:\n",
    "        url = 'https://apkpure.com/sitemaps/{}.xml.gz'.format(c)\n",
    "        try:\n",
    "            r = requests.get(url)\n",
    "        except:\n",
    "            url = 'https://apkpure.com/sitemaps/{}.xml.gz'.format(c+'-1')\n",
    "            r = requests.get(url)\n",
    "        #decompress the gz file and parse xml\n",
    "        data = gzip.decompress(r.content)\n",
    "        soup = BeautifulSoup(data,features = 'lxml')\n",
    "        soups.append(soup)\n",
    "    return soups\n",
    "\n",
    "def get_app_urls(sitemap,cat,number):\n",
    "    xmls = get_submap_xmls(sitemap)\n",
    "    \n",
    "    if cat == 'all':\n",
    "        categories = category(xmls)\n",
    "    elif type(cat) == int:\n",
    "        categories = random.choices(category(xmls), k = cat)\n",
    "    else:\n",
    "        categories = cat\n",
    "        \n",
    "    soups = sample_from_cat(categories)\n",
    "    apps = []\n",
    "    for soup in soups:\n",
    "        count = 0\n",
    "        sp = soup.find_all(re.compile('loc')) \n",
    "        lst = [] \n",
    "        for i in sp:\n",
    "            if re.match('<loc>', str(i)) and count < number:\n",
    "                try:\n",
    "                    lst += [re.search('(?<=<loc>)(https:\\/\\/apkpure.com\\/.*?\\/.*[a-zA-Z\\d].*)(?=<\\/loc>)', str(i)).group()] #find all urls storec in loc\n",
    "                    count += 1\n",
    "                except:\n",
    "                    continue\n",
    "        apps += lst\n",
    "    return apps"
   ]
  },
  {
   "cell_type": "code",
   "execution_count": 67,
   "metadata": {},
   "outputs": [],
   "source": [
    "def download_apk(outpath, app_urls, cat):\n",
    "    if not os.path.exists(outpath):\n",
    "        os.mkdir(outpath)\n",
    "    if not os.path.exists(outpath + '/' + cat):\n",
    "        os.mkdir(outpath + '/' + cat)\n",
    "\n",
    "    for url in app_urls:\n",
    "        download_link = url + '/download?from=details'\n",
    "        r1 = requests.get(download_link)\n",
    "        soup = BeautifulSoup(r1.text)\n",
    "        try:\n",
    "            download_link_file = soup.find('div',attrs = {\"class\":\"fast-download-box fast-bottom\"}).find('p',attrs = {'class':'down-click'}).find('a',href = True)['href']\n",
    "        except:\n",
    "            continue\n",
    "        r2 = requests.get(download_link_file)\n",
    "        apkfile = r2.content\n",
    "        complete_name = os.path.join(outpath+'/'+cat+'/', url.split('/')[-1]+\".apk\")\n",
    "        out_name = os.path.join(outpath+'/'+cat+'/', url.split('/')[-1])\n",
    "        with open(complete_name, 'wb') as fh:\n",
    "            fh.write(apkfile)\n",
    "        subprocess.call(['apktool', 'd', outpath+'/'+cat+'/'+url.split('/')[-1]+\".apk\", '-o',out_name])"
   ]
  },
  {
   "cell_type": "code",
   "execution_count": 68,
   "metadata": {},
   "outputs": [],
   "source": [
    "process_apk('data', apps[:20], 'dating')"
   ]
  },
  {
   "cell_type": "code",
   "execution_count": 69,
   "metadata": {},
   "outputs": [],
   "source": [
    "process_apk('data', apps[20:], 'education')"
   ]
  },
  {
   "cell_type": "code",
   "execution_count": 76,
   "metadata": {},
   "outputs": [],
   "source": [
    "clean_disk('data')"
   ]
  },
  {
   "cell_type": "code",
   "execution_count": 10,
   "metadata": {},
   "outputs": [],
   "source": [
    "app_link = apps[0]\n",
    "outpath='data'\n",
    "app_name = app_link.split('/')[-1]\n",
    "    "
   ]
  },
  {
   "cell_type": "code",
   "execution_count": 17,
   "metadata": {},
   "outputs": [],
   "source": [
    "download_apk(app_link, outpath)"
   ]
  },
  {
   "cell_type": "code",
   "execution_count": 18,
   "metadata": {},
   "outputs": [],
   "source": [
    "decompile(app_link, outpath, 'dating')"
   ]
  },
  {
   "cell_type": "code",
   "execution_count": 11,
   "metadata": {},
   "outputs": [],
   "source": [
    "#get download link\n",
    "download_link = app_link + '/download?from=details'\n",
    "r = requests.get(download_link)\n",
    "apkfile = r.content"
   ]
  },
  {
   "cell_type": "code",
   "execution_count": 13,
   "metadata": {},
   "outputs": [],
   "source": [
    "#download an save in outpath directory\n",
    "complete_name = outpath+'/'+app_name+'.apk'\n",
    "with open(complete_name, 'wb') as f:\n",
    "    f.write(apkfile)"
   ]
  },
  {
   "cell_type": "code",
   "execution_count": 15,
   "metadata": {},
   "outputs": [],
   "source": [
    "decompile(apps[0], 'data','dating')"
   ]
  },
  {
   "cell_type": "markdown",
   "metadata": {},
   "source": [
    "### 3.2 Download and Decompile apk Files"
   ]
  },
  {
   "cell_type": "code",
   "execution_count": 50,
   "metadata": {},
   "outputs": [],
   "source": [
    "def download_apk(app_link, outpath, cat):\n",
    "    '''\n",
    "    From the app link, find the download page, obtain the download link\n",
    "    '''\n",
    "    name = app_link.split('/')[-1]\n",
    "    \n",
    "    r = requests.get(app_link)\n",
    "    apk = r.content\n",
    "    \n",
    "    if not os.path.exists(outpath):\n",
    "        os.mkdir(outpath)\n",
    "    \n",
    "    if not os.path.exists(outpath + '/' + cat):\n",
    "        os.mkdir(outpath + '/' + cat)\n",
    "            \n",
    "    with open(outpath + '/' + cat + '/' + name + '.apk', 'wb') as f:\n",
    "        f.write(apk)"
   ]
  },
  {
   "cell_type": "code",
   "execution_count": 56,
   "metadata": {},
   "outputs": [],
   "source": [
    "def decompile(app_link, outpath, cat):\n",
    "    '''\n",
    "    download apk file and decompile to local path\n",
    "    '''\n",
    "    if not os.path.exists(outpath):\n",
    "        os.mkdir(outpath)\n",
    "    \n",
    "    if not os.path.exists(outpath + '/' + cat):\n",
    "        os.mkdir(outpath + '/' + cat)\n",
    "    name = app_link.split('/')[-1]\n",
    "    original = outpath + '/' + cat + '/' + name + '.apk'\n",
    "    decomp = outpath + '/' + cat + '/' + name\n",
    "    subprocess.call(['apktool', 'd', original, '-o', decomp])"
   ]
  },
  {
   "cell_type": "code",
   "execution_count": 57,
   "metadata": {},
   "outputs": [],
   "source": [
    "def get_smali_code(app_urls, outpath, cat): #download and decompile all application urls\n",
    "    for url in app_urls:\n",
    "        try:\n",
    "            download_apk(url, outpath, cat)\n",
    "            decompile(url, outpath, cat)\n",
    "        except:\n",
    "            continue"
   ]
  },
  {
   "cell_type": "code",
   "execution_count": 6,
   "metadata": {},
   "outputs": [],
   "source": [
    "apps = get_app_urls('https://apkpure.com/sitemap.xml',['dating','education'],20)"
   ]
  },
  {
   "cell_type": "code",
   "execution_count": 58,
   "metadata": {},
   "outputs": [],
   "source": [
    "get_smali_code(apps[:20], 'data', 'dating')"
   ]
  },
  {
   "cell_type": "code",
   "execution_count": 62,
   "metadata": {},
   "outputs": [],
   "source": [
    "get_smali_code(apps[20:], 'data', 'education')"
   ]
  },
  {
   "cell_type": "markdown",
   "metadata": {},
   "source": [
    "### 3.3 Organize Disk"
   ]
  },
  {
   "cell_type": "code",
   "execution_count": 74,
   "metadata": {},
   "outputs": [],
   "source": [
    "#use for d, dirs, files in os.walk(root):\n",
    "def clean_app_folder(app_path):\n",
    "    if '.DS_Store' not in app_path:\n",
    "        if os.path.isdir(app_path):\n",
    "            subs = os.listdir(app_path)\n",
    "            for s in subs:\n",
    "                if s not in ['smali', 'AndroidManifest.xml']:\n",
    "                    path = app_path+'/'+s\n",
    "                    if os.path.isdir(path):\n",
    "                        shutil.rmtree(path)\n",
    "                    elif os.path.isfile(path):\n",
    "                        os.remove(path)\n",
    "        else:\n",
    "            os.remove(app_path)"
   ]
  },
  {
   "cell_type": "code",
   "execution_count": 75,
   "metadata": {},
   "outputs": [],
   "source": [
    "def clean_disk(outpath):\n",
    "    folders = os.listdir(outpath)\n",
    "    for f in folders:\n",
    "        if os.path.isdir(outpath+'/'+f):\n",
    "            apps = os.listdir(outpath+'/'+f)\n",
    "            for app in apps:\n",
    "                clean_app_folder(outpath+'/'+f+'/'+app)\n",
    "        else:\n",
    "            os.remove(outpath+'/'+f)"
   ]
  },
  {
   "cell_type": "code",
   "execution_count": null,
   "metadata": {},
   "outputs": [],
   "source": []
  }
 ],
 "metadata": {
  "kernelspec": {
   "display_name": "Python 3",
   "language": "python",
   "name": "python3"
  },
  "language_info": {
   "codemirror_mode": {
    "name": "ipython",
    "version": 3
   },
   "file_extension": ".py",
   "mimetype": "text/x-python",
   "name": "python",
   "nbconvert_exporter": "python",
   "pygments_lexer": "ipython3",
   "version": "3.7.3"
  }
 },
 "nbformat": 4,
 "nbformat_minor": 2
}
