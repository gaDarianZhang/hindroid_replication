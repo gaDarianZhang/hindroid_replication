{
 "cells": [
  {
   "cell_type": "code",
   "execution_count": 1,
   "metadata": {},
   "outputs": [],
   "source": [
    "%load_ext autoreload\n",
    "%autoreload 2"
   ]
  },
  {
   "cell_type": "code",
   "execution_count": 2,
   "metadata": {},
   "outputs": [],
   "source": [
    "import matplotlib.pyplot as plt\n",
    "import re\n",
    "import itertools\n",
    "import os\n",
    "import pandas as pd\n",
    "import numpy as np"
   ]
  },
  {
   "cell_type": "code",
   "execution_count": 3,
   "metadata": {},
   "outputs": [],
   "source": [
    "import numpy as np\n",
    "import json\n",
    "import os\n",
    "import re\n",
    "import pandas as pd\n",
    "from src import ingestion\n",
    "from src import matrix"
   ]
  },
  {
   "cell_type": "code",
   "execution_count": 54,
   "metadata": {},
   "outputs": [],
   "source": [
    "from src import baseline\n",
    "from src import ingestion\n",
    "from src import matrix"
   ]
  },
  {
   "cell_type": "code",
   "execution_count": 5,
   "metadata": {},
   "outputs": [],
   "source": [
    "import warnings\n",
    "warnings.filterwarnings(\"ignore\")"
   ]
  },
  {
   "cell_type": "code",
   "execution_count": 6,
   "metadata": {},
   "outputs": [],
   "source": [
    "#parse configuration\n",
    "with open('config/data-params.json') as f:\n",
    "    train = json.load(f)\n",
    "sitemap = train['sitemap']\n",
    "train_outpath = train['outpath']\n",
    "num = train['num']\n",
    "cat = train['categories']"
   ]
  },
  {
   "cell_type": "code",
   "execution_count": 7,
   "metadata": {},
   "outputs": [
    {
     "data": {
      "text/plain": [
       "['dating', 'education']"
      ]
     },
     "execution_count": 7,
     "metadata": {},
     "output_type": "execute_result"
    }
   ],
   "source": [
    "cat"
   ]
  },
  {
   "cell_type": "code",
   "execution_count": 8,
   "metadata": {},
   "outputs": [],
   "source": [
    "date_apps= os.listdir(train_outpath+'/'+cat[0])\n",
    "educ_apps=os.listdir(train_outpath+'/'+cat[1])\n"
   ]
  },
  {
   "cell_type": "code",
   "execution_count": 55,
   "metadata": {},
   "outputs": [],
   "source": [
    "date_smalis = [ingestion.smalis_from_paths(ingestion.get_smali_paths(train_outpath+'/'+cat[0]+'/'+date_apps[i])) for i in range(len(date_apps))]\n",
    "educ_smalis = [ingestion.smalis_from_paths(ingestion.get_smali_paths(train_outpath+'/'+cat[1]+'/'+educ_apps[i])) for i in range(len(educ_apps))]\n",
    "\n",
    "\n"
   ]
  },
  {
   "cell_type": "code",
   "execution_count": 58,
   "metadata": {},
   "outputs": [],
   "source": [
    "smalis = pd.DataFrame(date_smalis+educ_smalis)\n",
    "apis = smalis.apply(matrix.smali2apis, axis = 1)"
   ]
  },
  {
   "cell_type": "code",
   "execution_count": 60,
   "metadata": {},
   "outputs": [],
   "source": [
    "A, classes = matrix.construct_A(apis)"
   ]
  },
  {
   "cell_type": "markdown",
   "metadata": {},
   "source": [
    "### EDA"
   ]
  },
  {
   "cell_type": "code",
   "execution_count": 69,
   "metadata": {},
   "outputs": [],
   "source": [
    "api_count = pd.DataFrame(A.todense(), columns = classes).sum().to_frame()"
   ]
  },
  {
   "cell_type": "code",
   "execution_count": 77,
   "metadata": {},
   "outputs": [
    {
     "name": "stdout",
     "output_type": "stream",
     "text": [
      "Number of API calls that only appear once: 314596\n"
     ]
    }
   ],
   "source": [
    "print('Number of API calls that only appear once: '+str(len(api_count[api_count[0]==1])))"
   ]
  },
  {
   "cell_type": "code",
   "execution_count": 83,
   "metadata": {},
   "outputs": [
    {
     "name": "stdout",
     "output_type": "stream",
     "text": [
      "Number of API calls that are most common: 530\n"
     ]
    }
   ],
   "source": [
    "print('Number of API calls that are most common: '+str(len(api_count[api_count[0]==32])))"
   ]
  },
  {
   "cell_type": "code",
   "execution_count": 11,
   "metadata": {},
   "outputs": [],
   "source": [
    "df_date = baseline.extract_simple_feat(date_apps, train_outpath +'/dating/', 0, 'dating')\n",
    "df_educ = baseline.extract_simple_feat(educ_apps, train_outpath +'/education/', 1, 'dating')"
   ]
  },
  {
   "cell_type": "code",
   "execution_count": 13,
   "metadata": {},
   "outputs": [],
   "source": [
    "df = pd.concat([df_educ, df_date])"
   ]
  },
  {
   "cell_type": "code",
   "execution_count": 23,
   "metadata": {},
   "outputs": [
    {
     "data": {
      "text/html": [
       "<div>\n",
       "<style scoped>\n",
       "    .dataframe tbody tr th:only-of-type {\n",
       "        vertical-align: middle;\n",
       "    }\n",
       "\n",
       "    .dataframe tbody tr th {\n",
       "        vertical-align: top;\n",
       "    }\n",
       "\n",
       "    .dataframe thead th {\n",
       "        text-align: right;\n",
       "    }\n",
       "</style>\n",
       "<table border=\"1\" class=\"dataframe\">\n",
       "  <thead>\n",
       "    <tr style=\"text-align: right;\">\n",
       "      <th></th>\n",
       "      <th>num_api</th>\n",
       "      <th>unique_api</th>\n",
       "      <th>num_method</th>\n",
       "      <th>unique_method</th>\n",
       "      <th>dating</th>\n",
       "    </tr>\n",
       "  </thead>\n",
       "  <tbody>\n",
       "    <tr>\n",
       "      <th>count</th>\n",
       "      <td>32.000000</td>\n",
       "      <td>32.000000</td>\n",
       "      <td>32.000000</td>\n",
       "      <td>32.000000</td>\n",
       "      <td>32.000000</td>\n",
       "    </tr>\n",
       "    <tr>\n",
       "      <th>mean</th>\n",
       "      <td>145493.781250</td>\n",
       "      <td>28789.781250</td>\n",
       "      <td>43982.000000</td>\n",
       "      <td>41864.687500</td>\n",
       "      <td>0.562500</td>\n",
       "    </tr>\n",
       "    <tr>\n",
       "      <th>std</th>\n",
       "      <td>47349.130426</td>\n",
       "      <td>8777.898454</td>\n",
       "      <td>14036.671901</td>\n",
       "      <td>13278.649089</td>\n",
       "      <td>0.504016</td>\n",
       "    </tr>\n",
       "    <tr>\n",
       "      <th>min</th>\n",
       "      <td>28940.000000</td>\n",
       "      <td>5574.000000</td>\n",
       "      <td>6852.000000</td>\n",
       "      <td>6474.000000</td>\n",
       "      <td>0.000000</td>\n",
       "    </tr>\n",
       "    <tr>\n",
       "      <th>25%</th>\n",
       "      <td>106625.750000</td>\n",
       "      <td>21366.750000</td>\n",
       "      <td>33931.000000</td>\n",
       "      <td>32058.750000</td>\n",
       "      <td>0.000000</td>\n",
       "    </tr>\n",
       "    <tr>\n",
       "      <th>50%</th>\n",
       "      <td>162549.500000</td>\n",
       "      <td>32315.000000</td>\n",
       "      <td>51776.500000</td>\n",
       "      <td>49467.500000</td>\n",
       "      <td>1.000000</td>\n",
       "    </tr>\n",
       "    <tr>\n",
       "      <th>75%</th>\n",
       "      <td>179904.500000</td>\n",
       "      <td>35814.000000</td>\n",
       "      <td>53660.250000</td>\n",
       "      <td>51352.500000</td>\n",
       "      <td>1.000000</td>\n",
       "    </tr>\n",
       "    <tr>\n",
       "      <th>max</th>\n",
       "      <td>202134.000000</td>\n",
       "      <td>38282.000000</td>\n",
       "      <td>58251.000000</td>\n",
       "      <td>53935.000000</td>\n",
       "      <td>1.000000</td>\n",
       "    </tr>\n",
       "  </tbody>\n",
       "</table>\n",
       "</div>"
      ],
      "text/plain": [
       "             num_api    unique_api    num_method  unique_method     dating\n",
       "count      32.000000     32.000000     32.000000      32.000000  32.000000\n",
       "mean   145493.781250  28789.781250  43982.000000   41864.687500   0.562500\n",
       "std     47349.130426   8777.898454  14036.671901   13278.649089   0.504016\n",
       "min     28940.000000   5574.000000   6852.000000    6474.000000   0.000000\n",
       "25%    106625.750000  21366.750000  33931.000000   32058.750000   0.000000\n",
       "50%    162549.500000  32315.000000  51776.500000   49467.500000   1.000000\n",
       "75%    179904.500000  35814.000000  53660.250000   51352.500000   1.000000\n",
       "max    202134.000000  38282.000000  58251.000000   53935.000000   1.000000"
      ]
     },
     "execution_count": 23,
     "metadata": {},
     "output_type": "execute_result"
    }
   ],
   "source": [
    "df_wona = df[df['num_api']!=0]\n",
    "df_wona.describe()"
   ]
  },
  {
   "cell_type": "code",
   "execution_count": 24,
   "metadata": {},
   "outputs": [
    {
     "data": {
      "text/plain": [
       "<matplotlib.axes._subplots.AxesSubplot at 0x7fefe2d789b0>"
      ]
     },
     "execution_count": 24,
     "metadata": {},
     "output_type": "execute_result"
    },
    {
     "data": {
      "image/png": "[encoded data removed]",
      "text/plain": [
       "<Figure size 432x288 with 1 Axes>"
      ]
     },
     "metadata": {
      "needs_background": "light"
     },
     "output_type": "display_data"
    }
   ],
   "source": [
    "df_wona[df_wona['dating']==1].drop('dating',1).plot.hist()"
   ]
  },
  {
   "cell_type": "code",
   "execution_count": 25,
   "metadata": {},
   "outputs": [
    {
     "data": {
      "text/plain": [
       "<matplotlib.axes._subplots.AxesSubplot at 0x7fefe2c70b70>"
      ]
     },
     "execution_count": 25,
     "metadata": {},
     "output_type": "execute_result"
    },
    {
     "data": {
      "image/png": "[encoded data removed]",
      "text/plain": [
       "<Figure size 432x288 with 1 Axes>"
      ]
     },
     "metadata": {
      "needs_background": "light"
     },
     "output_type": "display_data"
    }
   ],
   "source": [
    "df_wona[df_wona['dating']==0].drop('dating',1).plot.hist()"
   ]
  },
  {
   "cell_type": "code",
   "execution_count": 26,
   "metadata": {},
   "outputs": [
    {
     "data": {
      "text/plain": [
       "Ljava/lang/StringBuilder;    29\n",
       "Landroid/os/Parcel;           3\n",
       "Name: most_used_package, dtype: int64"
      ]
     },
     "execution_count": 26,
     "metadata": {},
     "output_type": "execute_result"
    }
   ],
   "source": [
    "df_wona.most_used_package.value_counts()"
   ]
  },
  {
   "cell_type": "markdown",
   "metadata": {},
   "source": [
    "### Baseline"
   ]
  },
  {
   "cell_type": "code",
   "execution_count": 27,
   "metadata": {},
   "outputs": [],
   "source": [
    "from sklearn.linear_model import LogisticRegression\n",
    "from sklearn.preprocessing import OneHotEncoder\n",
    "from sklearn.pipeline import Pipeline\n",
    "from sklearn.compose import ColumnTransformer\n",
    "from sklearn.metrics import confusion_matrix\n",
    "from sklearn.impute import SimpleImputer\n"
   ]
  },
  {
   "cell_type": "code",
   "execution_count": 28,
   "metadata": {},
   "outputs": [],
   "source": [
    "X = df_wona.drop('dating', 1)\n",
    "y = df_wona.dating"
   ]
  },
  {
   "cell_type": "code",
   "execution_count": 42,
   "metadata": {},
   "outputs": [],
   "source": [
    "pre = baseline.preprocess(X)"
   ]
  },
  {
   "cell_type": "code",
   "execution_count": 43,
   "metadata": {},
   "outputs": [
    {
     "data": {
      "text/html": [
       "<div>\n",
       "<style scoped>\n",
       "    .dataframe tbody tr th:only-of-type {\n",
       "        vertical-align: middle;\n",
       "    }\n",
       "\n",
       "    .dataframe tbody tr th {\n",
       "        vertical-align: top;\n",
       "    }\n",
       "\n",
       "    .dataframe thead th {\n",
       "        text-align: right;\n",
       "    }\n",
       "</style>\n",
       "<table border=\"1\" class=\"dataframe\">\n",
       "  <thead>\n",
       "    <tr style=\"text-align: right;\">\n",
       "      <th></th>\n",
       "      <th>apps</th>\n",
       "      <th>num_api</th>\n",
       "      <th>unique_api</th>\n",
       "      <th>num_method</th>\n",
       "      <th>unique_method</th>\n",
       "      <th>most_used_package</th>\n",
       "      <th>dating</th>\n",
       "    </tr>\n",
       "  </thead>\n",
       "  <tbody>\n",
       "    <tr>\n",
       "      <th>0</th>\n",
       "      <td>example.matharithmetics</td>\n",
       "      <td>100976</td>\n",
       "      <td>18701</td>\n",
       "      <td>28056</td>\n",
       "      <td>26744</td>\n",
       "      <td>Ljava/lang/StringBuilder;</td>\n",
       "      <td>1</td>\n",
       "    </tr>\n",
       "    <tr>\n",
       "      <th>2</th>\n",
       "      <td>com.studyblue</td>\n",
       "      <td>165465</td>\n",
       "      <td>35394</td>\n",
       "      <td>54804</td>\n",
       "      <td>52324</td>\n",
       "      <td>Ljava/lang/StringBuilder;</td>\n",
       "      <td>1</td>\n",
       "    </tr>\n",
       "    <tr>\n",
       "      <th>3</th>\n",
       "      <td>com.brainpop.brainpopfeaturedmovieandroid</td>\n",
       "      <td>83486</td>\n",
       "      <td>16997</td>\n",
       "      <td>23189</td>\n",
       "      <td>22145</td>\n",
       "      <td>Ljava/lang/StringBuilder;</td>\n",
       "      <td>1</td>\n",
       "    </tr>\n",
       "    <tr>\n",
       "      <th>4</th>\n",
       "      <td>com.vivitylabs.android.braintrainer</td>\n",
       "      <td>151615</td>\n",
       "      <td>35872</td>\n",
       "      <td>51934</td>\n",
       "      <td>50198</td>\n",
       "      <td>Landroid/os/Parcel;</td>\n",
       "      <td>1</td>\n",
       "    </tr>\n",
       "    <tr>\n",
       "      <th>5</th>\n",
       "      <td>com.infinitecampus.mobilePortal</td>\n",
       "      <td>79656</td>\n",
       "      <td>18060</td>\n",
       "      <td>24599</td>\n",
       "      <td>23777</td>\n",
       "      <td>Ljava/lang/StringBuilder;</td>\n",
       "      <td>1</td>\n",
       "    </tr>\n",
       "    <tr>\n",
       "      <th>6</th>\n",
       "      <td>org.coursera.android</td>\n",
       "      <td>182118</td>\n",
       "      <td>38282</td>\n",
       "      <td>55188</td>\n",
       "      <td>52546</td>\n",
       "      <td>Ljava/lang/StringBuilder;</td>\n",
       "      <td>1</td>\n",
       "    </tr>\n",
       "    <tr>\n",
       "      <th>7</th>\n",
       "      <td>com.MathUnderground.MathSolver</td>\n",
       "      <td>198877</td>\n",
       "      <td>34168</td>\n",
       "      <td>51619</td>\n",
       "      <td>49918</td>\n",
       "      <td>Ljava/lang/StringBuilder;</td>\n",
       "      <td>1</td>\n",
       "    </tr>\n",
       "    <tr>\n",
       "      <th>9</th>\n",
       "      <td>com.wendy</td>\n",
       "      <td>156086</td>\n",
       "      <td>33208</td>\n",
       "      <td>50544</td>\n",
       "      <td>48806</td>\n",
       "      <td>Ljava/lang/StringBuilder;</td>\n",
       "      <td>1</td>\n",
       "    </tr>\n",
       "    <tr>\n",
       "      <th>10</th>\n",
       "      <td>it.tinytap.market</td>\n",
       "      <td>168223</td>\n",
       "      <td>36880</td>\n",
       "      <td>53423</td>\n",
       "      <td>51295</td>\n",
       "      <td>Ljava/lang/StringBuilder;</td>\n",
       "      <td>1</td>\n",
       "    </tr>\n",
       "    <tr>\n",
       "      <th>11</th>\n",
       "      <td>com.gonliapps.learnspanish</td>\n",
       "      <td>136426</td>\n",
       "      <td>26321</td>\n",
       "      <td>38310</td>\n",
       "      <td>36625</td>\n",
       "      <td>Ljava/lang/StringBuilder;</td>\n",
       "      <td>1</td>\n",
       "    </tr>\n",
       "    <tr>\n",
       "      <th>12</th>\n",
       "      <td>com.ted.android</td>\n",
       "      <td>162058</td>\n",
       "      <td>35471</td>\n",
       "      <td>54784</td>\n",
       "      <td>52702</td>\n",
       "      <td>Ljava/lang/StringBuilder;</td>\n",
       "      <td>1</td>\n",
       "    </tr>\n",
       "    <tr>\n",
       "      <th>13</th>\n",
       "      <td>com.t11.skyviewfree</td>\n",
       "      <td>28940</td>\n",
       "      <td>5574</td>\n",
       "      <td>6852</td>\n",
       "      <td>6474</td>\n",
       "      <td>Ljava/lang/StringBuilder;</td>\n",
       "      <td>1</td>\n",
       "    </tr>\n",
       "    <tr>\n",
       "      <th>14</th>\n",
       "      <td>com.sololearn.cplusplus</td>\n",
       "      <td>161323</td>\n",
       "      <td>34643</td>\n",
       "      <td>46983</td>\n",
       "      <td>45297</td>\n",
       "      <td>Ljava/lang/StringBuilder;</td>\n",
       "      <td>1</td>\n",
       "    </tr>\n",
       "    <tr>\n",
       "      <th>15</th>\n",
       "      <td>air.bftv.larryABCs</td>\n",
       "      <td>120018</td>\n",
       "      <td>21711</td>\n",
       "      <td>36012</td>\n",
       "      <td>33195</td>\n",
       "      <td>Landroid/os/Parcel;</td>\n",
       "      <td>1</td>\n",
       "    </tr>\n",
       "    <tr>\n",
       "      <th>16</th>\n",
       "      <td>com.speaktribe.spanish</td>\n",
       "      <td>98043</td>\n",
       "      <td>19469</td>\n",
       "      <td>30829</td>\n",
       "      <td>29790</td>\n",
       "      <td>Ljava/lang/StringBuilder;</td>\n",
       "      <td>1</td>\n",
       "    </tr>\n",
       "    <tr>\n",
       "      <th>17</th>\n",
       "      <td>photoupload.a.actstudent.org</td>\n",
       "      <td>180329</td>\n",
       "      <td>35808</td>\n",
       "      <td>52529</td>\n",
       "      <td>49942</td>\n",
       "      <td>Ljava/lang/StringBuilder;</td>\n",
       "      <td>1</td>\n",
       "    </tr>\n",
       "    <tr>\n",
       "      <th>18</th>\n",
       "      <td>com.gurucools.playschool</td>\n",
       "      <td>44920</td>\n",
       "      <td>9175</td>\n",
       "      <td>13810</td>\n",
       "      <td>13085</td>\n",
       "      <td>Landroid/os/Parcel;</td>\n",
       "      <td>1</td>\n",
       "    </tr>\n",
       "    <tr>\n",
       "      <th>19</th>\n",
       "      <td>com.BigYellowTaxi.HookedPhonics</td>\n",
       "      <td>82544</td>\n",
       "      <td>20089</td>\n",
       "      <td>27443</td>\n",
       "      <td>26673</td>\n",
       "      <td>Ljava/lang/StringBuilder;</td>\n",
       "      <td>1</td>\n",
       "    </tr>\n",
       "    <tr>\n",
       "      <th>0</th>\n",
       "      <td>com.match.android.matchmobile</td>\n",
       "      <td>184717</td>\n",
       "      <td>32215</td>\n",
       "      <td>54228</td>\n",
       "      <td>51740</td>\n",
       "      <td>Ljava/lang/StringBuilder;</td>\n",
       "      <td>0</td>\n",
       "    </tr>\n",
       "    <tr>\n",
       "      <th>2</th>\n",
       "      <td>ru.dwerty.android.anonymouschat</td>\n",
       "      <td>108509</td>\n",
       "      <td>22647</td>\n",
       "      <td>34965</td>\n",
       "      <td>32815</td>\n",
       "      <td>Ljava/lang/StringBuilder;</td>\n",
       "      <td>0</td>\n",
       "    </tr>\n",
       "    <tr>\n",
       "      <th>3</th>\n",
       "      <td>com.bsapps.randomchat</td>\n",
       "      <td>163961</td>\n",
       "      <td>35832</td>\n",
       "      <td>50801</td>\n",
       "      <td>48965</td>\n",
       "      <td>Ljava/lang/StringBuilder;</td>\n",
       "      <td>0</td>\n",
       "    </tr>\n",
       "    <tr>\n",
       "      <th>4</th>\n",
       "      <td>com.QueContactoscom.QC</td>\n",
       "      <td>85937</td>\n",
       "      <td>20334</td>\n",
       "      <td>28046</td>\n",
       "      <td>27141</td>\n",
       "      <td>Ljava/lang/StringBuilder;</td>\n",
       "      <td>0</td>\n",
       "    </tr>\n",
       "    <tr>\n",
       "      <th>8</th>\n",
       "      <td>com.futurebits.instamessage.free</td>\n",
       "      <td>202134</td>\n",
       "      <td>34279</td>\n",
       "      <td>52081</td>\n",
       "      <td>49598</td>\n",
       "      <td>Ljava/lang/StringBuilder;</td>\n",
       "      <td>0</td>\n",
       "    </tr>\n",
       "    <tr>\n",
       "      <th>9</th>\n",
       "      <td>de.appfiction.yocutiegoogle</td>\n",
       "      <td>200661</td>\n",
       "      <td>32197</td>\n",
       "      <td>58251</td>\n",
       "      <td>53935</td>\n",
       "      <td>Ljava/lang/StringBuilder;</td>\n",
       "      <td>0</td>\n",
       "    </tr>\n",
       "    <tr>\n",
       "      <th>10</th>\n",
       "      <td>ru.loveplanet.app</td>\n",
       "      <td>179763</td>\n",
       "      <td>36430</td>\n",
       "      <td>53471</td>\n",
       "      <td>50767</td>\n",
       "      <td>Ljava/lang/StringBuilder;</td>\n",
       "      <td>0</td>\n",
       "    </tr>\n",
       "    <tr>\n",
       "      <th>11</th>\n",
       "      <td>emotion.onekm</td>\n",
       "      <td>171969</td>\n",
       "      <td>35866</td>\n",
       "      <td>52086</td>\n",
       "      <td>49684</td>\n",
       "      <td>Ljava/lang/StringBuilder;</td>\n",
       "      <td>0</td>\n",
       "    </tr>\n",
       "    <tr>\n",
       "      <th>13</th>\n",
       "      <td>com.meetville.dating</td>\n",
       "      <td>179745</td>\n",
       "      <td>36797</td>\n",
       "      <td>54377</td>\n",
       "      <td>51903</td>\n",
       "      <td>Ljava/lang/StringBuilder;</td>\n",
       "      <td>0</td>\n",
       "    </tr>\n",
       "    <tr>\n",
       "      <th>14</th>\n",
       "      <td>com.okcupid.okcupid</td>\n",
       "      <td>163041</td>\n",
       "      <td>36502</td>\n",
       "      <td>54282</td>\n",
       "      <td>51525</td>\n",
       "      <td>Ljava/lang/StringBuilder;</td>\n",
       "      <td>0</td>\n",
       "    </tr>\n",
       "    <tr>\n",
       "      <th>17</th>\n",
       "      <td>com.wildec.meet24</td>\n",
       "      <td>160199</td>\n",
       "      <td>32415</td>\n",
       "      <td>53401</td>\n",
       "      <td>50214</td>\n",
       "      <td>Ljava/lang/StringBuilder;</td>\n",
       "      <td>0</td>\n",
       "    </tr>\n",
       "    <tr>\n",
       "      <th>18</th>\n",
       "      <td>com.eharmony</td>\n",
       "      <td>170708</td>\n",
       "      <td>28897</td>\n",
       "      <td>50389</td>\n",
       "      <td>47169</td>\n",
       "      <td>Ljava/lang/StringBuilder;</td>\n",
       "      <td>0</td>\n",
       "    </tr>\n",
       "    <tr>\n",
       "      <th>19</th>\n",
       "      <td>com.choiceoflove.dating</td>\n",
       "      <td>201128</td>\n",
       "      <td>31117</td>\n",
       "      <td>58100</td>\n",
       "      <td>53341</td>\n",
       "      <td>Ljava/lang/StringBuilder;</td>\n",
       "      <td>0</td>\n",
       "    </tr>\n",
       "    <tr>\n",
       "      <th>20</th>\n",
       "      <td>com.peoplemedia.delightful</td>\n",
       "      <td>182226</td>\n",
       "      <td>29922</td>\n",
       "      <td>52038</td>\n",
       "      <td>49337</td>\n",
       "      <td>Ljava/lang/StringBuilder;</td>\n",
       "      <td>0</td>\n",
       "    </tr>\n",
       "  </tbody>\n",
       "</table>\n",
       "</div>"
      ],
      "text/plain": [
       "                                         apps  num_api  unique_api  \\\n",
       "0                     example.matharithmetics   100976       18701   \n",
       "2                               com.studyblue   165465       35394   \n",
       "3   com.brainpop.brainpopfeaturedmovieandroid    83486       16997   \n",
       "4         com.vivitylabs.android.braintrainer   151615       35872   \n",
       "5             com.infinitecampus.mobilePortal    79656       18060   \n",
       "6                        org.coursera.android   182118       38282   \n",
       "7              com.MathUnderground.MathSolver   198877       34168   \n",
       "9                                   com.wendy   156086       33208   \n",
       "10                          it.tinytap.market   168223       36880   \n",
       "11                 com.gonliapps.learnspanish   136426       26321   \n",
       "12                            com.ted.android   162058       35471   \n",
       "13                        com.t11.skyviewfree    28940        5574   \n",
       "14                    com.sololearn.cplusplus   161323       34643   \n",
       "15                         air.bftv.larryABCs   120018       21711   \n",
       "16                     com.speaktribe.spanish    98043       19469   \n",
       "17               photoupload.a.actstudent.org   180329       35808   \n",
       "18                   com.gurucools.playschool    44920        9175   \n",
       "19            com.BigYellowTaxi.HookedPhonics    82544       20089   \n",
       "0               com.match.android.matchmobile   184717       32215   \n",
       "2             ru.dwerty.android.anonymouschat   108509       22647   \n",
       "3                       com.bsapps.randomchat   163961       35832   \n",
       "4                      com.QueContactoscom.QC    85937       20334   \n",
       "8            com.futurebits.instamessage.free   202134       34279   \n",
       "9                 de.appfiction.yocutiegoogle   200661       32197   \n",
       "10                          ru.loveplanet.app   179763       36430   \n",
       "11                              emotion.onekm   171969       35866   \n",
       "13                       com.meetville.dating   179745       36797   \n",
       "14                        com.okcupid.okcupid   163041       36502   \n",
       "17                          com.wildec.meet24   160199       32415   \n",
       "18                               com.eharmony   170708       28897   \n",
       "19                    com.choiceoflove.dating   201128       31117   \n",
       "20                 com.peoplemedia.delightful   182226       29922   \n",
       "\n",
       "    num_method  unique_method          most_used_package  dating  \n",
       "0        28056          26744  Ljava/lang/StringBuilder;       1  \n",
       "2        54804          52324  Ljava/lang/StringBuilder;       1  \n",
       "3        23189          22145  Ljava/lang/StringBuilder;       1  \n",
       "4        51934          50198        Landroid/os/Parcel;       1  \n",
       "5        24599          23777  Ljava/lang/StringBuilder;       1  \n",
       "6        55188          52546  Ljava/lang/StringBuilder;       1  \n",
       "7        51619          49918  Ljava/lang/StringBuilder;       1  \n",
       "9        50544          48806  Ljava/lang/StringBuilder;       1  \n",
       "10       53423          51295  Ljava/lang/StringBuilder;       1  \n",
       "11       38310          36625  Ljava/lang/StringBuilder;       1  \n",
       "12       54784          52702  Ljava/lang/StringBuilder;       1  \n",
       "13        6852           6474  Ljava/lang/StringBuilder;       1  \n",
       "14       46983          45297  Ljava/lang/StringBuilder;       1  \n",
       "15       36012          33195        Landroid/os/Parcel;       1  \n",
       "16       30829          29790  Ljava/lang/StringBuilder;       1  \n",
       "17       52529          49942  Ljava/lang/StringBuilder;       1  \n",
       "18       13810          13085        Landroid/os/Parcel;       1  \n",
       "19       27443          26673  Ljava/lang/StringBuilder;       1  \n",
       "0        54228          51740  Ljava/lang/StringBuilder;       0  \n",
       "2        34965          32815  Ljava/lang/StringBuilder;       0  \n",
       "3        50801          48965  Ljava/lang/StringBuilder;       0  \n",
       "4        28046          27141  Ljava/lang/StringBuilder;       0  \n",
       "8        52081          49598  Ljava/lang/StringBuilder;       0  \n",
       "9        58251          53935  Ljava/lang/StringBuilder;       0  \n",
       "10       53471          50767  Ljava/lang/StringBuilder;       0  \n",
       "11       52086          49684  Ljava/lang/StringBuilder;       0  \n",
       "13       54377          51903  Ljava/lang/StringBuilder;       0  \n",
       "14       54282          51525  Ljava/lang/StringBuilder;       0  \n",
       "17       53401          50214  Ljava/lang/StringBuilder;       0  \n",
       "18       50389          47169  Ljava/lang/StringBuilder;       0  \n",
       "19       58100          53341  Ljava/lang/StringBuilder;       0  \n",
       "20       52038          49337  Ljava/lang/StringBuilder;       0  "
      ]
     },
     "execution_count": 43,
     "metadata": {},
     "output_type": "execute_result"
    }
   ],
   "source": [
    "df_wona"
   ]
  },
  {
   "cell_type": "code",
   "execution_count": 2,
   "metadata": {},
   "outputs": [
    {
     "ename": "NameError",
     "evalue": "name 'result_LR' is not defined",
     "output_type": "error",
     "traceback": [
      "\u001b[0;31m\u001b[0m",
      "\u001b[0;31mNameError\u001b[0mTraceback (most recent call last)",
      "\u001b[0;32m<ipython-input-2-e0e3daf890cd>\u001b[0m in \u001b[0;36m<module>\u001b[0;34m\u001b[0m\n\u001b[0;32m----> 1\u001b[0;31m \u001b[0mresult_LR\u001b[0m \u001b[0;34m=\u001b[0m \u001b[0mresult_LR\u001b[0m\u001b[0;34m(\u001b[0m\u001b[0mdf_wona\u001b[0m\u001b[0;34m,\u001b[0m \u001b[0mdf_wona\u001b[0m\u001b[0;34m,\u001b[0m \u001b[0mpre\u001b[0m\u001b[0;34m,\u001b[0m \u001b[0my_column\u001b[0m \u001b[0;34m=\u001b[0m \u001b[0;34m'dating'\u001b[0m\u001b[0;34m)\u001b[0m\u001b[0;34m\u001b[0m\u001b[0;34m\u001b[0m\u001b[0m\n\u001b[0m\u001b[1;32m      2\u001b[0m \u001b[0mcompute_metrics\u001b[0m\u001b[0;34m(\u001b[0m\u001b[0mresult_LR\u001b[0m\u001b[0;34m)\u001b[0m\u001b[0;34m\u001b[0m\u001b[0;34m\u001b[0m\u001b[0m\n",
      "\u001b[0;31mNameError\u001b[0m: name 'result_LR' is not defined"
     ]
    }
   ],
   "source": [
    "result_LR = baseline.result_LR(df_wona, df_wona, pre, y_column = 'dating')\n",
    "result_LR"
   ]
  },
  {
   "cell_type": "code",
   "execution_count": 52,
   "metadata": {},
   "outputs": [
    {
     "data": {
      "text/plain": [
       "(10, 4, 5, 13)"
      ]
     },
     "execution_count": 52,
     "metadata": {},
     "output_type": "execute_result"
    }
   ],
   "source": [
    "result_RF = baseline.result_RF(df_wona, df_wona, pre, y_column = 'dating')\n",
    "result_RF "
   ]
  },
  {
   "cell_type": "code",
   "execution_count": 53,
   "metadata": {},
   "outputs": [
    {
     "data": {
      "text/plain": [
       "(14, 0, 0, 18)"
      ]
     },
     "execution_count": 53,
     "metadata": {},
     "output_type": "execute_result"
    }
   ],
   "source": [
    "result_GBT = baseline.result_GBT(df_wona, df_wona, pre, y_column = 'dating')\n",
    "result_GBT"
   ]
  },
  {
   "cell_type": "code",
   "execution_count": null,
   "metadata": {},
   "outputs": [],
   "source": []
  }
 ],
 "metadata": {
  "kernelspec": {
   "display_name": "Python 3",
   "language": "python",
   "name": "python3"
  },
  "language_info": {
   "codemirror_mode": {
    "name": "ipython",
    "version": 3
   },
   "file_extension": ".py",
   "mimetype": "text/x-python",
   "name": "python",
   "nbconvert_exporter": "python",
   "pygments_lexer": "ipython3",
   "version": "3.7.3"
  }
 },
 "nbformat": 4,
 "nbformat_minor": 2
}
