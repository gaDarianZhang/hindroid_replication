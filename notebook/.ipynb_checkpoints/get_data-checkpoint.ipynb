{
 "cells": [
  {
   "cell_type": "code",
   "execution_count": 16,
   "metadata": {},
   "outputs": [],
   "source": [
    "import requests\n",
    "import re\n",
    "import glob, os, shutil\n",
    "import gzip\n",
    "import subprocess\n",
    "from bs4 import BeautifulSoup\n",
    "import random"
   ]
  },
  {
   "cell_type": "markdown",
   "metadata": {},
   "source": [
    "### Part 3.1 Create a List of Android Apps"
   ]
  },
  {
   "cell_type": "code",
   "execution_count": 59,
   "metadata": {},
   "outputs": [],
   "source": [
    "def get_submap_xmls(sitemap):\n",
    "    resp = requests.get(sitemap)\n",
    "    soup = BeautifulSoup(resp.content, 'xml')\n",
    "    url = soup.find_all('loc') \n",
    "    result = []\n",
    "    for link in url:\n",
    "        result += [link.get_text()]\n",
    "    return result\n",
    "#extract categories list\n",
    "def category(link_lst):\n",
    "    result = [] \n",
    "    for xml in link_lst:\n",
    "        result += [re.search('(?<=sitemaps\\/)(.*)(?=\\-\\d)|(?<=sitemaps\\/)(.*)(?=\\.xml)',xml).groups()[1]]\n",
    "    return [i for i in result if i] \n",
    "\n",
    "\n",
    "#get all the gz files from each categories\n",
    "def sample_from_cat(categories): \n",
    "    soups = []\n",
    "    for c in categories:\n",
    "        url = 'https://apkpure.com/sitemaps/{}.xml.gz'.format(c)\n",
    "        try:\n",
    "            r = requests.get(url)\n",
    "        except:\n",
    "            url = 'https://apkpure.com/sitemaps/{}.xml.gz'.format(c+'-1')\n",
    "            r = requests.get(url)\n",
    "        #decompress the gz file and parse xml\n",
    "        data = gzip.decompress(r.content)\n",
    "        soup = BeautifulSoup(data,features = 'lxml')\n",
    "        soups.append(soup)\n",
    "    return soups\n",
    "def get_app_urls(sitemap,cat,number):\n",
    "    xmls = get_xmls(sitemap)\n",
    "    \n",
    "    if cat == 'all':\n",
    "        categories = category(xmls)\n",
    "    elif type(cat) == int:\n",
    "        categories = random.choices(category(xmls), k = cat)\n",
    "    else:\n",
    "        categories = cat\n",
    "        \n",
    "    soups = sample_from_cat(categories)\n",
    "    apps = []\n",
    "    for soup in soups:\n",
    "        count = 0\n",
    "        sp = soup.find_all(re.compile('loc')) \n",
    "        lst = [] \n",
    "        for i in sp:\n",
    "            if re.match('<loc>', str(i)) and count < number:\n",
    "                try:\n",
    "                    lst += [re.search('(?<=<loc>)(https:\\/\\/apkpure.com\\/.*?\\/.*[a-zA-Z\\d].*)(?=<\\/loc>)', str(i)).group()] #find all urls storec in loc\n",
    "                    count += 1\n",
    "                except:\n",
    "                    continue\n",
    "        apps += lst\n",
    "    return apps"
   ]
  },
  {
   "cell_type": "code",
   "execution_count": 89,
   "metadata": {},
   "outputs": [],
   "source": [
    "apps = get_app_urls('https://apkpure.com/sitemap.xml', ['dating','education'], 20)"
   ]
  },
  {
   "cell_type": "code",
   "execution_count": 90,
   "metadata": {},
   "outputs": [
    {
     "data": {
      "text/plain": [
       "['https://apkpure.com/ellochat-meet-strangers-nearby-chat-and-dating/com.bsapps.randomchat',\n",
       " 'https://apkpure.com/hot-or-not-find-someone-right-now/com.hotornot.app',\n",
       " 'https://apkpure.com/find-date-connect-with-your-best-match-by-zoosk/com.zoosk.zoosk',\n",
       " 'https://apkpure.com/match-dating-chat-date-meet-someone-new/com.match.android.matchmobile',\n",
       " 'https://apkpure.com/eharmony-online-dating-app/com.eharmony',\n",
       " 'https://apkpure.com/okcupid-the-1-online-dating-app-for-great-dates/com.okcupid.okcupid',\n",
       " 'https://apkpure.com/moco-chat-meet-people/com.jnj.mocospace.android',\n",
       " 'https://apkpure.com/cmb-free-dating-app/com.coffeemeetsbagel',\n",
       " 'https://apkpure.com/blendr-chat-flirt-meet/com.blendr.mobile',\n",
       " 'https://apkpure.com/meet24-love-chat-singles/com.wildec.meet24',\n",
       " 'https://apkpure.com/hooked-on-phonics/com.BigYellowTaxi.HookedPhonics',\n",
       " 'https://apkpure.com/learn-spanish-free-for-beginners/com.gonliapps.learnspanish',\n",
       " 'https://apkpure.com/preschool-educational-games/com.gurucools.playschool',\n",
       " 'https://apkpure.com/abc-s-alphabet-learning-game/air.bftv.larryABCs',\n",
       " 'https://apkpure.com/tinytap-educational-kids-games-made-by-teachers/it.tinytap.market',\n",
       " 'https://apkpure.com/learn-english-for-beginners/com.wendy',\n",
       " 'https://apkpure.com/where-is-that-learn-countries-states-more/com.jaysquared.games.whereishd.releasefree',\n",
       " 'https://apkpure.com/quizlet-learn-languages-vocab-with-flashcards/com.quizlet.quizletandroid',\n",
       " 'https://apkpure.com/fit-brains-trainer/com.vivitylabs.android.braintrainer',\n",
       " 'https://apkpure.com/learn-c/com.sololearn.cplusplus']"
      ]
     },
     "execution_count": 90,
     "metadata": {},
     "output_type": "execute_result"
    }
   ],
   "source": [
    "apps"
   ]
  },
  {
   "cell_type": "code",
   "execution_count": 76,
   "metadata": {},
   "outputs": [],
   "source": [
    "download_apk(apps[0], 'data')"
   ]
  },
  {
   "cell_type": "code",
   "execution_count": 80,
   "metadata": {},
   "outputs": [],
   "source": [
    "completeName = os.path.join('data'+'/', apps[0].split('/')[-1]+\".apk\")"
   ]
  },
  {
   "cell_type": "code",
   "execution_count": 87,
   "metadata": {},
   "outputs": [
    {
     "ename": "FileNotFoundError",
     "evalue": "[Errno 2] No such file or directory: 'apktool': 'apktool'",
     "output_type": "error",
     "traceback": [
      "\u001b[0;31m---------------------------------------------------------------------------\u001b[0m",
      "\u001b[0;31mFileNotFoundError\u001b[0m                         Traceback (most recent call last)",
      "\u001b[0;32m<ipython-input-87-4b1180a7d3de>\u001b[0m in \u001b[0;36m<module>\u001b[0;34m\u001b[0m\n\u001b[1;32m      1\u001b[0m \u001b[0;31m#os.chdir('data')\u001b[0m\u001b[0;34m\u001b[0m\u001b[0;34m\u001b[0m\u001b[0;34m\u001b[0m\u001b[0m\n\u001b[0;32m----> 2\u001b[0;31m \u001b[0msubprocess\u001b[0m\u001b[0;34m.\u001b[0m\u001b[0mrun\u001b[0m\u001b[0;34m(\u001b[0m\u001b[0;34m[\u001b[0m\u001b[0;34m'apktool'\u001b[0m\u001b[0;34m,\u001b[0m \u001b[0;34m'd'\u001b[0m\u001b[0;34m,\u001b[0m \u001b[0mcompleteName\u001b[0m\u001b[0;34m]\u001b[0m\u001b[0;34m)\u001b[0m\u001b[0;34m\u001b[0m\u001b[0;34m\u001b[0m\u001b[0m\n\u001b[0m",
      "\u001b[0;32m/opt/conda/lib/python3.7/subprocess.py\u001b[0m in \u001b[0;36mrun\u001b[0;34m(input, capture_output, timeout, check, *popenargs, **kwargs)\u001b[0m\n\u001b[1;32m    470\u001b[0m         \u001b[0mkwargs\u001b[0m\u001b[0;34m[\u001b[0m\u001b[0;34m'stderr'\u001b[0m\u001b[0;34m]\u001b[0m \u001b[0;34m=\u001b[0m \u001b[0mPIPE\u001b[0m\u001b[0;34m\u001b[0m\u001b[0;34m\u001b[0m\u001b[0m\n\u001b[1;32m    471\u001b[0m \u001b[0;34m\u001b[0m\u001b[0m\n\u001b[0;32m--> 472\u001b[0;31m     \u001b[0;32mwith\u001b[0m \u001b[0mPopen\u001b[0m\u001b[0;34m(\u001b[0m\u001b[0;34m*\u001b[0m\u001b[0mpopenargs\u001b[0m\u001b[0;34m,\u001b[0m \u001b[0;34m**\u001b[0m\u001b[0mkwargs\u001b[0m\u001b[0;34m)\u001b[0m \u001b[0;32mas\u001b[0m \u001b[0mprocess\u001b[0m\u001b[0;34m:\u001b[0m\u001b[0;34m\u001b[0m\u001b[0;34m\u001b[0m\u001b[0m\n\u001b[0m\u001b[1;32m    473\u001b[0m         \u001b[0;32mtry\u001b[0m\u001b[0;34m:\u001b[0m\u001b[0;34m\u001b[0m\u001b[0;34m\u001b[0m\u001b[0m\n\u001b[1;32m    474\u001b[0m             \u001b[0mstdout\u001b[0m\u001b[0;34m,\u001b[0m \u001b[0mstderr\u001b[0m \u001b[0;34m=\u001b[0m \u001b[0mprocess\u001b[0m\u001b[0;34m.\u001b[0m\u001b[0mcommunicate\u001b[0m\u001b[0;34m(\u001b[0m\u001b[0minput\u001b[0m\u001b[0;34m,\u001b[0m \u001b[0mtimeout\u001b[0m\u001b[0;34m=\u001b[0m\u001b[0mtimeout\u001b[0m\u001b[0;34m)\u001b[0m\u001b[0;34m\u001b[0m\u001b[0;34m\u001b[0m\u001b[0m\n",
      "\u001b[0;32m/opt/conda/lib/python3.7/subprocess.py\u001b[0m in \u001b[0;36m__init__\u001b[0;34m(self, args, bufsize, executable, stdin, stdout, stderr, preexec_fn, close_fds, shell, cwd, env, universal_newlines, startupinfo, creationflags, restore_signals, start_new_session, pass_fds, encoding, errors, text)\u001b[0m\n\u001b[1;32m    773\u001b[0m                                 \u001b[0mc2pread\u001b[0m\u001b[0;34m,\u001b[0m \u001b[0mc2pwrite\u001b[0m\u001b[0;34m,\u001b[0m\u001b[0;34m\u001b[0m\u001b[0;34m\u001b[0m\u001b[0m\n\u001b[1;32m    774\u001b[0m                                 \u001b[0merrread\u001b[0m\u001b[0;34m,\u001b[0m \u001b[0merrwrite\u001b[0m\u001b[0;34m,\u001b[0m\u001b[0;34m\u001b[0m\u001b[0;34m\u001b[0m\u001b[0m\n\u001b[0;32m--> 775\u001b[0;31m                                 restore_signals, start_new_session)\n\u001b[0m\u001b[1;32m    776\u001b[0m         \u001b[0;32mexcept\u001b[0m\u001b[0;34m:\u001b[0m\u001b[0;34m\u001b[0m\u001b[0;34m\u001b[0m\u001b[0m\n\u001b[1;32m    777\u001b[0m             \u001b[0;31m# Cleanup if the child failed starting.\u001b[0m\u001b[0;34m\u001b[0m\u001b[0;34m\u001b[0m\u001b[0;34m\u001b[0m\u001b[0m\n",
      "\u001b[0;32m/opt/conda/lib/python3.7/subprocess.py\u001b[0m in \u001b[0;36m_execute_child\u001b[0;34m(self, args, executable, preexec_fn, close_fds, pass_fds, cwd, env, startupinfo, creationflags, shell, p2cread, p2cwrite, c2pread, c2pwrite, errread, errwrite, restore_signals, start_new_session)\u001b[0m\n\u001b[1;32m   1520\u001b[0m                         \u001b[0;32mif\u001b[0m \u001b[0merrno_num\u001b[0m \u001b[0;34m==\u001b[0m \u001b[0merrno\u001b[0m\u001b[0;34m.\u001b[0m\u001b[0mENOENT\u001b[0m\u001b[0;34m:\u001b[0m\u001b[0;34m\u001b[0m\u001b[0;34m\u001b[0m\u001b[0m\n\u001b[1;32m   1521\u001b[0m                             \u001b[0merr_msg\u001b[0m \u001b[0;34m+=\u001b[0m \u001b[0;34m': '\u001b[0m \u001b[0;34m+\u001b[0m \u001b[0mrepr\u001b[0m\u001b[0;34m(\u001b[0m\u001b[0merr_filename\u001b[0m\u001b[0;34m)\u001b[0m\u001b[0;34m\u001b[0m\u001b[0;34m\u001b[0m\u001b[0m\n\u001b[0;32m-> 1522\u001b[0;31m                     \u001b[0;32mraise\u001b[0m \u001b[0mchild_exception_type\u001b[0m\u001b[0;34m(\u001b[0m\u001b[0merrno_num\u001b[0m\u001b[0;34m,\u001b[0m \u001b[0merr_msg\u001b[0m\u001b[0;34m,\u001b[0m \u001b[0merr_filename\u001b[0m\u001b[0;34m)\u001b[0m\u001b[0;34m\u001b[0m\u001b[0;34m\u001b[0m\u001b[0m\n\u001b[0m\u001b[1;32m   1523\u001b[0m                 \u001b[0;32mraise\u001b[0m \u001b[0mchild_exception_type\u001b[0m\u001b[0;34m(\u001b[0m\u001b[0merr_msg\u001b[0m\u001b[0;34m)\u001b[0m\u001b[0;34m\u001b[0m\u001b[0;34m\u001b[0m\u001b[0m\n\u001b[1;32m   1524\u001b[0m \u001b[0;34m\u001b[0m\u001b[0m\n",
      "\u001b[0;31mFileNotFoundError\u001b[0m: [Errno 2] No such file or directory: 'apktool': 'apktool'"
     ]
    }
   ],
   "source": [
    "#os.chdir('data')\n",
    "subprocess.run(['apktool', 'd', completeName])   "
   ]
  },
  {
   "cell_type": "code",
   "execution_count": null,
   "metadata": {},
   "outputs": [],
   "source": [
    "clean_disk(outpath)"
   ]
  },
  {
   "cell_type": "markdown",
   "metadata": {},
   "source": [
    "### 3.2 Download and Decompile apk Files"
   ]
  },
  {
   "cell_type": "code",
   "execution_count": 72,
   "metadata": {},
   "outputs": [],
   "source": [
    "def process_apk(outpath,url):\n",
    "    if not os.path.exists(outpath+'/'):\n",
    "        os.mkdir(outpath+'/')\n",
    "    for link in url:\n",
    "        req = requests.get(link)\n",
    "        soup_1 = BeautifulSoup(req.text)\n",
    "        download_link = link + '/download?from=details'\n",
    "        req_1 = requests.get(download_link)\n",
    "        soup_2 = BeautifulSoup(req_1.text)\n",
    "        try:\n",
    "            download_link_file = soup_2.find('div',attrs = {\"class\":\"fast-download-box fast-bottom\"}).find('p',attrs = {'class':'down-click'}).find('a',href = True)['href']\n",
    "        except:\n",
    "            continue\n",
    "        req_2 = requests.get(download_link_file)\n",
    "        data = req_2.content\n",
    "        completeName = os.path.join(outpath+'/', link.split('/')[-1]+\".apk\")         \n",
    "        with open(completeName, 'wb') as fh:\n",
    "            fh.write(data)\n",
    "        subprocess.call(['cd', outpath])\n",
    "        subprocess.call(['apktool.txt', 'd', completeName])    \n",
    "    "
   ]
  },
  {
   "cell_type": "code",
   "execution_count": 75,
   "metadata": {},
   "outputs": [],
   "source": [
    "def download_apk(app_link, outpath): #download the apk file\n",
    "    app_name = app_link.split('/')[-1]\n",
    "    \n",
    "    #get download link\n",
    "    download_link = app_link + '/download?from=details'\n",
    "    r = requests.get(download_link)\n",
    "    apkfile = r.content\n",
    "    \n",
    "    #download an save in outpath directory\n",
    "    path = os.path.join(outpath +'/', app_name +\".apk\")\n",
    "    with open(path, 'wb') as f:\n",
    "        f.write(apkfile)"
   ]
  },
  {
   "cell_type": "code",
   "execution_count": 78,
   "metadata": {},
   "outputs": [],
   "source": [
    "def decompile(app_link, outpath): #decompile apk files and remove .apk\n",
    "    app_name = app_link.split('/')[-1]\n",
    "    try:\n",
    "        os.chdir('data')\n",
    "    except:\n",
    "        continue\n",
    "    completeName = os.path.join(outpath+'/', app_link.split('/')[-1]+\".apk\")      \n",
    "    subprocess.call(['apktool', 'd', app_name +\".apk\"])\n",
    "    if os.path.exists(app_name +\".apk\"): #delete apkfiles\n",
    "        os.remove(app_name +\".apk\")"
   ]
  },
  {
   "cell_type": "code",
   "execution_count": 10,
   "metadata": {},
   "outputs": [],
   "source": [
    "def get_smali_code(app_urls, outpath): #download and decompile all application urls\n",
    "    for url in app_urls:\n",
    "        try:\n",
    "            page = get_download_page(url)\n",
    "            download_apk(page, url, outpath)\n",
    "            decompile(url, outpath)\n",
    "        except:\n",
    "            continue"
   ]
  },
  {
   "cell_type": "markdown",
   "metadata": {},
   "source": [
    "### 3.3 Organize Disk"
   ]
  },
  {
   "cell_type": "code",
   "execution_count": 65,
   "metadata": {},
   "outputs": [],
   "source": [
    "#use for d, dirs, files in os.walk(root):\n",
    "def clean_app_folder(app_path):\n",
    "    subs = os.listdir(app_path)\n",
    "    for s in subs:\n",
    "        if s not in ['smali', 'AndroidManifest.xml']:\n",
    "            path = app_path+'/'+s\n",
    "            if os.path.isdir(path):\n",
    "                shutil.rmtree(path)\n",
    "            elif os.path.isfile(path):\n",
    "                os.remove(path)"
   ]
  },
  {
   "cell_type": "code",
   "execution_count": 73,
   "metadata": {},
   "outputs": [],
   "source": [
    "def clean_disk(outpath):\n",
    "    apps = os.listdir(outpath)\n",
    "    for app in apps:\n",
    "        if os.path.isdir(app):\n",
    "            clean_app_folder(outpath+'/'+app)"
   ]
  }
 ],
 "metadata": {
  "kernelspec": {
   "display_name": "Python 3",
   "language": "python",
   "name": "python3"
  },
  "language_info": {
   "codemirror_mode": {
    "name": "ipython",
    "version": 3
   },
   "file_extension": ".py",
   "mimetype": "text/x-python",
   "name": "python",
   "nbconvert_exporter": "python",
   "pygments_lexer": "ipython3",
   "version": "3.7.3"
  }
 },
 "nbformat": 4,
 "nbformat_minor": 2
}
