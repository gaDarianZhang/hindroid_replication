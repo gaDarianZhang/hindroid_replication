{
 "cells": [
  {
   "cell_type": "code",
   "execution_count": 192,
   "metadata": {},
   "outputs": [],
   "source": [
    "import requests\n",
    "import re\n",
    "import glob, os\n",
    "import gzip\n",
    "import subprocess\n",
    "from bs4 import BeautifulSoup"
   ]
  },
  {
   "cell_type": "markdown",
   "metadata": {},
   "source": [
    "### Part 3.1 Create a List of Android Apps"
   ]
  },
  {
   "cell_type": "code",
   "execution_count": 167,
   "metadata": {},
   "outputs": [],
   "source": [
    "def get_submap_xmls(sitemap): #get a list of submap xmls from sitemap\n",
    "    resp = requests.get(sitemap)\n",
    "    data = resp.content\n",
    "    soup = BeautifulSoup(data, 'xml')\n",
    "    loc_list = soup.find_all('loc') \n",
    "    xml_lst = []\n",
    "    for link in loc_list:\n",
    "        xml_lst += [link.get_text()]\n",
    "    return xml_lst"
   ]
  },
  {
   "cell_type": "code",
   "execution_count": 153,
   "metadata": {},
   "outputs": [],
   "source": [
    "def category(xml_lst): #get a list of category\n",
    "    cat = [] \n",
    "    for xml in xml_lst:\n",
    "        cat += [re.search('(?<=sitemaps\\/)(.*)(?=\\-\\d)|(?<=sitemaps\\/)(.*)(?=\\.xml)',xml).groups()[1]]\n",
    "    return [i for i in category if i] #remove none value"
   ]
  },
  {
   "cell_type": "code",
   "execution_count": 169,
   "metadata": {},
   "outputs": [],
   "source": [
    "def sample_from_cat(categories): #choose the first submap of each category\n",
    "    apps = []\n",
    "    for c in categories:\n",
    "        url = 'https://apkpure.com/sitemaps/{}.xml.gz'.format(c)\n",
    "        try:\n",
    "            r = requests.get(url)\n",
    "        except:\n",
    "            url = 'https://apkpure.com/sitemaps/{}.xml.gz'.format(c+'-1')\n",
    "            r = requests.get(url)\n",
    "    \n",
    "        data = gzip.decompress(r.content)\n",
    "        apps.append(data)\n",
    "    return apps"
   ]
  },
  {
   "cell_type": "code",
   "execution_count": 191,
   "metadata": {},
   "outputs": [],
   "source": [
    "def get_app_urls(sitemap): #get all app urls of our sample\n",
    "    xmls = get_submap_xmls(sitemap)\n",
    "    categories = category(xmls)\n",
    "    samples = sample_from_cat(categories)\n",
    "    apps = []\n",
    "    for sample in samples:\n",
    "        soup = bs4.BeautifulSoup(sample ,features = 'lxml')\n",
    "        \n",
    "         #find all urls stored in loc, which also return image:loc\n",
    "        loc_urls = soup.find_all(re.compile('loc'))\n",
    "        lst = [] #list of url for apps\n",
    "        for i in loc_urls:\n",
    "            if re.match('<loc>', str(i)): #select only <loc>\n",
    "                lst += [re.search('(?<=<loc>)(.*)(?=<\\/loc>)', str(i)).group()]\n",
    "        apps += lst\n",
    "    return apps"
   ]
  },
  {
   "cell_type": "markdown",
   "metadata": {},
   "source": [
    "### 3.2 Download and Decompile apk Files"
   ]
  },
  {
   "cell_type": "code",
   "execution_count": 194,
   "metadata": {},
   "outputs": [],
   "source": [
    "def get_download_page(app_link): #get download page of an app\n",
    "    app_name = app_link.split('/')[-1]\n",
    "    if not os.path.exists(outpath+'/'):\n",
    "        os.mkdir(outpath+'/')\n",
    "    r = requests.get(app_link)\n",
    "    app_page = bs4.BeautifulSoup(r.text)\n",
    "    \n",
    "    #find download page\n",
    "    download_page_l = app_path + app_page.find('div', attrs={\"class\":\"down\"}).a['href']\n",
    "    return download_page_l    \n",
    "    "
   ]
  },
  {
   "cell_type": "code",
   "execution_count": 195,
   "metadata": {},
   "outputs": [],
   "source": [
    "def download_apk(download_page_link, app_link, outpath): #download the apk file\n",
    "    app_name = app_link.split('/')[-1]\n",
    "    r_download = requests.get(download_page_link)\n",
    "    download_page = bs4.BeautifulSoup(r_download.text)\n",
    "    \n",
    "    #get download link\n",
    "    download_link = download_page.find('div',attrs = {\"class\":\"fast-download-box fast-bottom\"}).a['href']\n",
    "    r = requests.get(download_link)\n",
    "    apkfile = r.content\n",
    "    \n",
    "    #download an save in outpath directory\n",
    "    path = os.path.join(outpath +'/', app_name +\".apk\")\n",
    "    with open(path, 'wb') as f:\n",
    "            f.write(apkfile)"
   ]
  },
  {
   "cell_type": "code",
   "execution_count": 196,
   "metadata": {},
   "outputs": [],
   "source": [
    "def decompile(app_link, outpath): #decompile apk files and remove .apk\n",
    "    app_name = app_link.split('/')[-1]\n",
    "    subprocess.call(['cd', outpath]) \n",
    "    subprocess.call(['apktool', 'd', app_name +\".apk\"])\n",
    "    if os.path.exists(app_name +\".apk\"): #delete apkfiles\n",
    "        os.remove(app_name +\".apk\")"
   ]
  },
  {
   "cell_type": "code",
   "execution_count": 197,
   "metadata": {},
   "outputs": [],
   "source": [
    "def get_smali_code(app_urls, outpath): #download and decompile all application urls\n",
    "    for url in app_urls:\n",
    "        page = get_download_page(url)\n",
    "        download_apk(page, url, outpath)\n",
    "        decompile(url, outpath)"
   ]
  },
  {
   "cell_type": "markdown",
   "metadata": {},
   "source": [
    "### 3.3 Organize Disk"
   ]
  },
  {
   "cell_type": "code",
   "execution_count": 185,
   "metadata": {},
   "outputs": [],
   "source": [
    "def clean_app_folder(app_path):\n",
    "    subs = os.listdir(app_path)\n",
    "    for s in subs:\n",
    "        if s not in ['smali', 'AndroidManifest.xml']:\n",
    "            if os.path.isdir(s):\n",
    "                os.rmdir(s)\n",
    "            elif os.path.isfile(s):\n",
    "                os.remove(s)"
   ]
  },
  {
   "cell_type": "code",
   "execution_count": 190,
   "metadata": {},
   "outputs": [],
   "source": [
    "def clean_disk(outpath):\n",
    "    apps = os.listdir(outpath)\n",
    "    for app in apps:\n",
    "        clean_app_folder(app)"
   ]
  }
 ],
 "metadata": {
  "kernelspec": {
   "display_name": "Python 3",
   "language": "python",
   "name": "python3"
  },
  "language_info": {
   "codemirror_mode": {
    "name": "ipython",
    "version": 3
   },
   "file_extension": ".py",
   "mimetype": "text/x-python",
   "name": "python",
   "nbconvert_exporter": "python",
   "pygments_lexer": "ipython3",
   "version": "3.7.4"
  }
 },
 "nbformat": 4,
 "nbformat_minor": 2
}
