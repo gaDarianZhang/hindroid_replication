{
 "cells": [
  {
   "cell_type": "code",
   "execution_count": 1,
   "metadata": {},
   "outputs": [],
   "source": [
    "%load_ext autoreload\n",
    "%autoreload 2"
   ]
  },
  {
   "cell_type": "code",
   "execution_count": 2,
   "metadata": {},
   "outputs": [],
   "source": [
    "import warnings\n",
    "warnings.filterwarnings(\"ignore\")"
   ]
  },
  {
   "cell_type": "code",
   "execution_count": 3,
   "metadata": {},
   "outputs": [],
   "source": [
    "from multiprocessing import Pool\n",
    "import os"
   ]
  },
  {
   "cell_type": "code",
   "execution_count": 4,
   "metadata": {},
   "outputs": [],
   "source": [
    "from src.ingestion import *\n",
    "from src.baseline import *\n",
    "from src.matrix import *\n",
    "from src.model import *"
   ]
  },
  {
   "cell_type": "markdown",
   "metadata": {},
   "source": [
    "### Data Ingestion"
   ]
  },
  {
   "cell_type": "markdown",
   "metadata": {},
   "source": [
    "We want to get urls for 300 benign apps. Since some apps are unable to be downloaded automatically with code, I put in a slightly higher number, 18 apps for each of 20 randomly selected categories of apps, to be download so we get sufficient apps, resulting in 314 benign apps. Then we download it to outpath `data`, and clean the app folder."
   ]
  },
  {
   "cell_type": "code",
   "execution_count": 14,
   "metadata": {},
   "outputs": [],
   "source": [
    "benign_urls = get_app_urls(\"https://apkpure.com/sitemap.xml\",20,18)"
   ]
  },
  {
   "cell_type": "code",
   "execution_count": 13,
   "metadata": {},
   "outputs": [],
   "source": [
    "download_apk(benign_urls, 'data', 'analysis')"
   ]
  },
  {
   "cell_type": "code",
   "execution_count": 16,
   "metadata": {},
   "outputs": [],
   "source": [
    "clean_disk('data')"
   ]
  },
  {
   "cell_type": "markdown",
   "metadata": {},
   "source": [
    "### EDA"
   ]
  },
  {
   "cell_type": "markdown",
   "metadata": {},
   "source": [
    "We then get paths from downloaded files, as well as malwares provided, and turn then into strings."
   ]
  },
  {
   "cell_type": "code",
   "execution_count": 4,
   "metadata": {},
   "outputs": [],
   "source": [
    "benign_paths = get_benign_paths('data', cat='analysis')\n",
    "malware_paths = get_malware_paths('/datasets/dsc180a-wi20-public/Malware/amd_data_smali', 300)"
   ]
  },
  {
   "cell_type": "code",
   "execution_count": 5,
   "metadata": {},
   "outputs": [],
   "source": [
    "with open('benign_paths.txt', 'w') as f:\n",
    "    for item in benign_paths:\n",
    "        f.write(\"%s\\n\" % item)\n",
    "with open('malware_paths.txt', 'w') as f:\n",
    "    for item in malware_paths:\n",
    "        f.write(\"%s\\n\" % item)"
   ]
  },
  {
   "cell_type": "code",
   "execution_count": 5,
   "metadata": {},
   "outputs": [],
   "source": [
    "with open('benign_paths.txt') as f:\n",
    "    benign_paths = f.read().splitlines()"
   ]
  },
  {
   "cell_type": "code",
   "execution_count": 6,
   "metadata": {},
   "outputs": [],
   "source": [
    "with open('malware_paths.txt') as f:\n",
    "    malware_paths = f.read().splitlines()"
   ]
  },
  {
   "cell_type": "code",
   "execution_count": 7,
   "metadata": {},
   "outputs": [],
   "source": [
    "def process_smali(p):\n",
    "    return smalis_from_paths(get_smali_paths(p))"
   ]
  },
  {
   "cell_type": "code",
   "execution_count": 7,
   "metadata": {},
   "outputs": [],
   "source": [
    "pool = Pool(os.cpu_count())                 \n",
    "benign_smalis = pool.map(process_smali, benign_paths)\n",
    "pool.close()"
   ]
  },
  {
   "cell_type": "code",
   "execution_count": 8,
   "metadata": {},
   "outputs": [],
   "source": [
    "pool = Pool(os.cpu_count())                 \n",
    "malware_smalis = pool.map(process_smali, malware_paths)\n",
    "pool.close()"
   ]
  },
  {
   "cell_type": "code",
   "execution_count": 9,
   "metadata": {},
   "outputs": [],
   "source": [
    "smalis, y = get_Xy(benign_smalis, malware_smalis)"
   ]
  },
  {
   "cell_type": "code",
   "execution_count": 5,
   "metadata": {},
   "outputs": [],
   "source": [
    "with open('y.txt') as f:\n",
    "    y = f.read().splitlines()"
   ]
  },
  {
   "cell_type": "code",
   "execution_count": 6,
   "metadata": {},
   "outputs": [],
   "source": [
    "smalis = pd.read_csv('smalis.csv')"
   ]
  },
  {
   "cell_type": "code",
   "execution_count": 10,
   "metadata": {},
   "outputs": [],
   "source": [
    "smalis.to_csv('smalis.csv', index = False)"
   ]
  },
  {
   "cell_type": "code",
   "execution_count": 15,
   "metadata": {},
   "outputs": [],
   "source": [
    "apis = smalis.apply(smali2apis, axis = 1)"
   ]
  },
  {
   "cell_type": "markdown",
   "metadata": {},
   "source": [
    "Then we perform some EDA."
   ]
  },
  {
   "cell_type": "code",
   "execution_count": 16,
   "metadata": {},
   "outputs": [],
   "source": [
    "A, classes = construct_A(apis)"
   ]
  },
  {
   "cell_type": "code",
   "execution_count": 21,
   "metadata": {},
   "outputs": [
    {
     "name": "stdout",
     "output_type": "stream",
     "text": [
      "Number of API calls that only appear once: 1184938\n",
      "Number of API calls that are most common: 1468\n"
     ]
    }
   ],
   "source": [
    "api_count = pd.DataFrame(A.todense(), columns = classes).sum().to_frame()\n",
    "print('Number of API calls that only appear once: '+str(len(api_count[api_count[0]==1])))\n",
    "print('Number of API calls that are most common: '+str(len(api_count[api_count[0]>280])))"
   ]
  },
  {
   "cell_type": "code",
   "execution_count": 26,
   "metadata": {},
   "outputs": [],
   "source": [
    "def process_feat(app):\n",
    "    \"\"\"\n",
    "    given smali files of an app, return its basic features\n",
    "    \n",
    "    Args:\n",
    "        app - series of smali files of an app\n",
    "        \n",
    "    \"\"\"\n",
    "        na, ua, nb, ub, mp = basic_stats(app)\n",
    "        return [na, ua, nb, ub, mp]\n",
    "    \n",
    "def extract_simple_feat(smalis, y, y_col = 'malware'):\n",
    "    \"\"\"\n",
    "    given a dataframe of smali files of apps, output dataframe of the simple features of app\n",
    "    \n",
    "    Args:\n",
    "        smalis - dataframe of smali files, in which each row is an app\n",
    "        y - the label of this set of apps\n",
    "        y_col - the column name for label, default malware\n",
    "        \n",
    "    \"\"\"\n",
    "    num_apis = []\n",
    "    unique_apis = []\n",
    "    num_methods = []\n",
    "    unique_methods = []\n",
    "    most_used_package = []\n",
    "    \n",
    "        \n",
    "    pool = Pool(os.cpu_count())                 \n",
    "    mat = pool.map(process_feat, smalis)\n",
    "    pool.close()\n",
    "        \n",
    "    df = pd.DataFrame(mat, columns = ['num_api', 'unique_api', 'num_method', 'unique_method', 'most_used_package'])\n",
    "    df[y_col] = y\n",
    "    return df"
   ]
  },
  {
   "cell_type": "code",
   "execution_count": 27,
   "metadata": {},
   "outputs": [],
   "source": [
    "df_benign = extract_simple_feat(benign_smalis, 0)\n",
    "df_malware = extract_simple_feat(malware_smalis, 1)\n",
    "df = pd.concat([df_benign, df_malware])"
   ]
  },
  {
   "cell_type": "code",
   "execution_count": 28,
   "metadata": {},
   "outputs": [],
   "source": [
    "df.to_csv('simple_feat.csv', index = False)"
   ]
  },
  {
   "cell_type": "markdown",
   "metadata": {},
   "source": [
    "For 100 apps we downloaded/accesses, only 85 are meaningful."
   ]
  },
  {
   "cell_type": "code",
   "execution_count": 29,
   "metadata": {},
   "outputs": [
    {
     "data": {
      "text/html": [
       "<div>\n",
       "<style scoped>\n",
       "    .dataframe tbody tr th:only-of-type {\n",
       "        vertical-align: middle;\n",
       "    }\n",
       "\n",
       "    .dataframe tbody tr th {\n",
       "        vertical-align: top;\n",
       "    }\n",
       "\n",
       "    .dataframe thead th {\n",
       "        text-align: right;\n",
       "    }\n",
       "</style>\n",
       "<table border=\"1\" class=\"dataframe\">\n",
       "  <thead>\n",
       "    <tr style=\"text-align: right;\">\n",
       "      <th></th>\n",
       "      <th>num_api</th>\n",
       "      <th>unique_api</th>\n",
       "      <th>num_method</th>\n",
       "      <th>unique_method</th>\n",
       "      <th>malware</th>\n",
       "    </tr>\n",
       "  </thead>\n",
       "  <tbody>\n",
       "    <tr>\n",
       "      <th>count</th>\n",
       "      <td>572.000000</td>\n",
       "      <td>572.000000</td>\n",
       "      <td>572.000000</td>\n",
       "      <td>572.000000</td>\n",
       "      <td>572.000000</td>\n",
       "    </tr>\n",
       "    <tr>\n",
       "      <th>mean</th>\n",
       "      <td>76220.846154</td>\n",
       "      <td>14465.318182</td>\n",
       "      <td>22037.171329</td>\n",
       "      <td>20908.375874</td>\n",
       "      <td>0.524476</td>\n",
       "    </tr>\n",
       "    <tr>\n",
       "      <th>std</th>\n",
       "      <td>69200.974793</td>\n",
       "      <td>13015.477347</td>\n",
       "      <td>20710.641929</td>\n",
       "      <td>19595.765069</td>\n",
       "      <td>0.499838</td>\n",
       "    </tr>\n",
       "    <tr>\n",
       "      <th>min</th>\n",
       "      <td>8.000000</td>\n",
       "      <td>2.000000</td>\n",
       "      <td>9.000000</td>\n",
       "      <td>9.000000</td>\n",
       "      <td>0.000000</td>\n",
       "    </tr>\n",
       "    <tr>\n",
       "      <th>25%</th>\n",
       "      <td>12030.500000</td>\n",
       "      <td>2260.000000</td>\n",
       "      <td>2258.500000</td>\n",
       "      <td>2169.000000</td>\n",
       "      <td>0.000000</td>\n",
       "    </tr>\n",
       "    <tr>\n",
       "      <th>50%</th>\n",
       "      <td>50189.500000</td>\n",
       "      <td>8981.500000</td>\n",
       "      <td>12838.500000</td>\n",
       "      <td>12275.500000</td>\n",
       "      <td>1.000000</td>\n",
       "    </tr>\n",
       "    <tr>\n",
       "      <th>75%</th>\n",
       "      <td>144134.000000</td>\n",
       "      <td>27486.000000</td>\n",
       "      <td>43236.750000</td>\n",
       "      <td>40923.000000</td>\n",
       "      <td>1.000000</td>\n",
       "    </tr>\n",
       "    <tr>\n",
       "      <th>max</th>\n",
       "      <td>360551.000000</td>\n",
       "      <td>38282.000000</td>\n",
       "      <td>59050.000000</td>\n",
       "      <td>54665.000000</td>\n",
       "      <td>1.000000</td>\n",
       "    </tr>\n",
       "  </tbody>\n",
       "</table>\n",
       "</div>"
      ],
      "text/plain": [
       "             num_api    unique_api    num_method  unique_method     malware\n",
       "count     572.000000    572.000000    572.000000     572.000000  572.000000\n",
       "mean    76220.846154  14465.318182  22037.171329   20908.375874    0.524476\n",
       "std     69200.974793  13015.477347  20710.641929   19595.765069    0.499838\n",
       "min         8.000000      2.000000      9.000000       9.000000    0.000000\n",
       "25%     12030.500000   2260.000000   2258.500000    2169.000000    0.000000\n",
       "50%     50189.500000   8981.500000  12838.500000   12275.500000    1.000000\n",
       "75%    144134.000000  27486.000000  43236.750000   40923.000000    1.000000\n",
       "max    360551.000000  38282.000000  59050.000000   54665.000000    1.000000"
      ]
     },
     "execution_count": 29,
     "metadata": {},
     "output_type": "execute_result"
    }
   ],
   "source": [
    "df_wona = df[df['num_api']!=0]\n",
    "df_wona.describe()"
   ]
  },
  {
   "cell_type": "markdown",
   "metadata": {},
   "source": [
    "We generate some plots to help us visualize the distribution of numbers."
   ]
  },
  {
   "cell_type": "code",
   "execution_count": 32,
   "metadata": {},
   "outputs": [
    {
     "data": {
      "text/plain": [
       "<matplotlib.axes._subplots.AxesSubplot at 0x7f4f04816240>"
      ]
     },
     "execution_count": 32,
     "metadata": {},
     "output_type": "execute_result"
    },
    {
     "data": {
      "image/png": "[encoded data removed]",
      "text/plain": [
       "<Figure size 432x288 with 1 Axes>"
      ]
     },
     "metadata": {
      "needs_background": "light"
     },
     "output_type": "display_data"
    }
   ],
   "source": [
    "df_wona[df_wona['malware']==1].drop('malware',1).plot.hist()"
   ]
  },
  {
   "cell_type": "code",
   "execution_count": 31,
   "metadata": {},
   "outputs": [
    {
     "data": {
      "text/plain": [
       "<matplotlib.axes._subplots.AxesSubplot at 0x7f4f048d8320>"
      ]
     },
     "execution_count": 31,
     "metadata": {},
     "output_type": "execute_result"
    },
    {
     "data": {
      "image/png": "[encoded data removed]",
      "text/plain": [
       "<Figure size 432x288 with 1 Axes>"
      ]
     },
     "metadata": {
      "needs_background": "light"
     },
     "output_type": "display_data"
    }
   ],
   "source": [
    "df_wona[df_wona['malware']==0].drop('malware',1).plot.hist()"
   ]
  },
  {
   "cell_type": "code",
   "execution_count": 33,
   "metadata": {},
   "outputs": [
    {
     "data": {
      "text/plain": [
       "Ljava/lang/StringBuilder;                                                    490\n",
       "Landroid/os/Parcel;                                                           53\n",
       "Ljava/lang/StringBuffer;                                                      11\n",
       "Ljava/lang/String;                                                             4\n",
       "Ljava/lang/RuntimeException;                                                   3\n",
       "LA001;                                                                         2\n",
       "Landroid/widget/ImageView;                                                     2\n",
       "Lio/hansel/pebbletracesdk/codepatch/PatchJoinPoint$PatchJoinPointBuilder;      1\n",
       "Lshd/nsnamtwl/nlogllb/wvvoqnwbrwtbg2_nh/cGame;                                 1\n",
       "Lcom/bs/dtu/kangyosukui/c;                                                     1\n",
       "Lcom/ubisoft/videoplayer/MediaPlayerListener;                                  1\n",
       "Lmmq/ttawlmlp/jsadbia/eif2/cGame;                                              1\n",
       "Lg;                                                                            1\n",
       "Ljava/lang/Integer;                                                            1\n",
       "Name: most_used_package, dtype: int64"
      ]
     },
     "execution_count": 33,
     "metadata": {},
     "output_type": "execute_result"
    }
   ],
   "source": [
    "df_wona.most_used_package.value_counts()"
   ]
  },
  {
   "cell_type": "markdown",
   "metadata": {},
   "source": [
    "### Baseline"
   ]
  },
  {
   "cell_type": "markdown",
   "metadata": {},
   "source": [
    "We will be using above features to feed in logistic regression, random forest, and gradient boost classifier as our baseline models."
   ]
  },
  {
   "cell_type": "code",
   "execution_count": 34,
   "metadata": {},
   "outputs": [],
   "source": [
    "X = df_wona.drop('malware', 1)\n",
    "y = df_wona.malware"
   ]
  },
  {
   "cell_type": "code",
   "execution_count": 35,
   "metadata": {},
   "outputs": [],
   "source": [
    "from sklearn.model_selection import train_test_split\n",
    "X_train, X_test, y_train, y_test = train_test_split(X, y, test_size=0.33, shuffle=True)"
   ]
  },
  {
   "cell_type": "code",
   "execution_count": 36,
   "metadata": {},
   "outputs": [],
   "source": [
    "pre = preprocess(X_train)"
   ]
  },
  {
   "cell_type": "code",
   "execution_count": 37,
   "metadata": {},
   "outputs": [],
   "source": [
    "df_train = X_train.assign(malware = y_train)\n",
    "df_test = X_test.assign(malware= y_test)"
   ]
  },
  {
   "cell_type": "code",
   "execution_count": 38,
   "metadata": {},
   "outputs": [],
   "source": [
    "result_lr = result_LR(df_train, df_test, pre)\n",
    "lr = compute_metrics(list(result_lr))"
   ]
  },
  {
   "cell_type": "code",
   "execution_count": 39,
   "metadata": {},
   "outputs": [],
   "source": [
    "result_rf = result_RF(df_train, df_test, pre)\n",
    "rf = compute_metrics(list(result_rf))"
   ]
  },
  {
   "cell_type": "code",
   "execution_count": 40,
   "metadata": {},
   "outputs": [],
   "source": [
    "result_gbt = result_GBT(df_train, df_test, pre)\n",
    "gbt = compute_metrics(list(result_gbt))"
   ]
  },
  {
   "cell_type": "code",
   "execution_count": 41,
   "metadata": {},
   "outputs": [],
   "source": [
    "baseline_result = pd.DataFrame([lr, rf, gbt], columns=['tn', 'fp', 'fn', 'tp', 'acc', 'fnr'], index = np.array(['logistic regression', 'random forest', 'gradient boost']))"
   ]
  },
  {
   "cell_type": "code",
   "execution_count": 42,
   "metadata": {},
   "outputs": [
    {
     "data": {
      "text/html": [
       "<div>\n",
       "<style scoped>\n",
       "    .dataframe tbody tr th:only-of-type {\n",
       "        vertical-align: middle;\n",
       "    }\n",
       "\n",
       "    .dataframe tbody tr th {\n",
       "        vertical-align: top;\n",
       "    }\n",
       "\n",
       "    .dataframe thead th {\n",
       "        text-align: right;\n",
       "    }\n",
       "</style>\n",
       "<table border=\"1\" class=\"dataframe\">\n",
       "  <thead>\n",
       "    <tr style=\"text-align: right;\">\n",
       "      <th></th>\n",
       "      <th>tn</th>\n",
       "      <th>fp</th>\n",
       "      <th>fn</th>\n",
       "      <th>tp</th>\n",
       "      <th>acc</th>\n",
       "      <th>fnr</th>\n",
       "    </tr>\n",
       "  </thead>\n",
       "  <tbody>\n",
       "    <tr>\n",
       "      <th>logistic regression</th>\n",
       "      <td>77</td>\n",
       "      <td>17</td>\n",
       "      <td>3</td>\n",
       "      <td>92</td>\n",
       "      <td>0.894180</td>\n",
       "      <td>0.031579</td>\n",
       "    </tr>\n",
       "    <tr>\n",
       "      <th>random forest</th>\n",
       "      <td>82</td>\n",
       "      <td>12</td>\n",
       "      <td>3</td>\n",
       "      <td>92</td>\n",
       "      <td>0.920635</td>\n",
       "      <td>0.031579</td>\n",
       "    </tr>\n",
       "    <tr>\n",
       "      <th>gradient boost</th>\n",
       "      <td>80</td>\n",
       "      <td>14</td>\n",
       "      <td>3</td>\n",
       "      <td>92</td>\n",
       "      <td>0.910053</td>\n",
       "      <td>0.031579</td>\n",
       "    </tr>\n",
       "  </tbody>\n",
       "</table>\n",
       "</div>"
      ],
      "text/plain": [
       "                     tn  fp  fn  tp       acc       fnr\n",
       "logistic regression  77  17   3  92  0.894180  0.031579\n",
       "random forest        82  12   3  92  0.920635  0.031579\n",
       "gradient boost       80  14   3  92  0.910053  0.031579"
      ]
     },
     "execution_count": 42,
     "metadata": {},
     "output_type": "execute_result"
    }
   ],
   "source": [
    "baseline_result"
   ]
  },
  {
   "cell_type": "markdown",
   "metadata": {},
   "source": [
    "As we can observe above, our baseline models actually perform really well on small amount of data."
   ]
  },
  {
   "cell_type": "markdown",
   "metadata": {},
   "source": [
    "### Matrix"
   ]
  },
  {
   "cell_type": "markdown",
   "metadata": {},
   "source": [
    "We will start constructing our matrices and kernels."
   ]
  },
  {
   "cell_type": "code",
   "execution_count": 12,
   "metadata": {},
   "outputs": [
    {
     "data": {
      "text/plain": [
       "615"
      ]
     },
     "execution_count": 12,
     "metadata": {},
     "output_type": "execute_result"
    }
   ],
   "source": [
    "len(y)"
   ]
  },
  {
   "cell_type": "code",
   "execution_count": 7,
   "metadata": {},
   "outputs": [],
   "source": [
    "from sklearn.model_selection import train_test_split\n",
    "X_train, X_test, y_train, y_test = train_test_split(smalis, y, test_size=0.33, shuffle=True)"
   ]
  },
  {
   "cell_type": "code",
   "execution_count": 11,
   "metadata": {},
   "outputs": [],
   "source": [
    "from multiprocessing import Process, Queue, Manager\n",
    "\n",
    "def get_APA_test(app_smalis, test_app_smalis):\n",
    "    smalis = pd.DataFrame(app_smalis)\n",
    "    apis = smalis.apply(smali2apis, axis = 1)\n",
    "    print('constructing A...')\n",
    "    A, all_apis = construct_A(apis)\n",
    "    print('finish A construction')\n",
    "    test_smalis = pd.DataFrame(test_app_smalis)\n",
    "    test_apis = test_smalis.apply(smali2apis, axis = 1)\n",
    "    print('constructing A_test...')\n",
    "    A_test = construct_A_test(test_apis, all_apis)\n",
    "    print('finish A_test construction')\n",
    "\n",
    "    print('constructing P...')\n",
    "    P = construct_P(all_apis)\n",
    "    print('finish p construction')\n",
    "    return A, A_test, P\n",
    "\n",
    "def get_B(smalis):\n",
    "    print('constructing B...')\n",
    "    B = construct_B(smalis)\n",
    "    print('finish B construction')\n",
    "    return B\n",
    "\n",
    "def method1(app_smalis, test_app_smalis, l1):\n",
    "  \n",
    "    l1.put(get_APA_test(app_smalis, test_app_smalis))\n",
    "    \n",
    "\n",
    "def method2(smalis, l2):\n",
    "\n",
    "    l2.put(get_B(smalis))"
   ]
  },
  {
   "cell_type": "code",
   "execution_count": 14,
   "metadata": {},
   "outputs": [],
   "source": [
    "import multiprocessing\n",
    "\n",
    "def worker(api, apis, return_dict):\n",
    "    '''worker function'''\n",
    "    if api not in return_dict.keys():\n",
    "        return_dict[api] = apis\n",
    "    else:\n",
    "        return_dict[api] = return_dict[api].union(apis)\n"
   ]
  },
  {
   "cell_type": "code",
   "execution_count": 15,
   "metadata": {},
   "outputs": [],
   "source": [
    "def construct_B(smalis):\n",
    "    \"\"\"\n",
    "    construct B matrix\n",
    "\n",
    "    Args:\n",
    "        smalis - dataframe of smali files\n",
    "        \n",
    "    \"\"\"\n",
    "    manager = Manager()\n",
    "    B_dict = manager.dict()\n",
    "            \n",
    "    blocks = smalis.apply(smali2blocks, axis = 1).explode() #get a series of blocks\n",
    "    jobs = []\n",
    "    print('start for loop')\n",
    "    for block in blocks:\n",
    "        apis = set(re.findall('invoke-\\w+ {.*}, (.*?)\\\\(', block))\n",
    "        for api in apis:\n",
    "            p = Process(target=worker, args=(api, apis, B_dict))\n",
    "            jobs.append(p)\n",
    "            p.start()\n",
    "    print('finish for loop')\n",
    "    for proc in jobs:\n",
    "        proc.join()\n",
    "    mlb = MultiLabelBinarizer(sparse_output = True)\n",
    "    return mlb.fit_transform(B_dict.values())"
   ]
  },
  {
   "cell_type": "code",
   "execution_count": null,
   "metadata": {},
   "outputs": [
    {
     "name": "stdout",
     "output_type": "stream",
     "text": [
      "start for loop\n"
     ]
    }
   ],
   "source": [
    "B = construct_B(X_train)"
   ]
  },
  {
   "cell_type": "code",
   "execution_count": 22,
   "metadata": {
    "scrolled": true
   },
   "outputs": [
    {
     "name": "stdout",
     "output_type": "stream",
     "text": [
      "constructing B...\n",
      "constructing A...\n",
      "finish A construction\n",
      "constructing A_test...\n",
      "finish A_test construction\n",
      "constructing P...\n",
      "finish p construction\n"
     ]
    },
    {
     "ename": "KeyboardInterrupt",
     "evalue": "",
     "output_type": "error",
     "traceback": [
      "\u001b[0;31m\u001b[0m",
      "\u001b[0;31mKeyboardInterrupt\u001b[0mTraceback (most recent call last)",
      "\u001b[0;32m<ipython-input-22-3ba68c579437>\u001b[0m in \u001b[0;36m<module>\u001b[0;34m\u001b[0m\n\u001b[1;32m      6\u001b[0m \u001b[0mp2\u001b[0m\u001b[0;34m.\u001b[0m\u001b[0mstart\u001b[0m\u001b[0;34m(\u001b[0m\u001b[0;34m)\u001b[0m\u001b[0;34m\u001b[0m\u001b[0;34m\u001b[0m\u001b[0m\n\u001b[1;32m      7\u001b[0m \u001b[0mA\u001b[0m\u001b[0;34m,\u001b[0m \u001b[0mA_test\u001b[0m\u001b[0;34m,\u001b[0m \u001b[0mP\u001b[0m \u001b[0;34m=\u001b[0m \u001b[0ml1\u001b[0m\u001b[0;34m.\u001b[0m\u001b[0mget\u001b[0m\u001b[0;34m(\u001b[0m\u001b[0;34m)\u001b[0m\u001b[0;34m\u001b[0m\u001b[0;34m\u001b[0m\u001b[0m\n\u001b[0;32m----> 8\u001b[0;31m \u001b[0mB\u001b[0m \u001b[0;34m=\u001b[0m \u001b[0ml2\u001b[0m\u001b[0;34m.\u001b[0m\u001b[0mget\u001b[0m\u001b[0;34m(\u001b[0m\u001b[0;34m)\u001b[0m\u001b[0;34m\u001b[0m\u001b[0;34m\u001b[0m\u001b[0m\n\u001b[0m",
      "\u001b[0;32m/opt/conda/lib/python3.7/multiprocessing/queues.py\u001b[0m in \u001b[0;36mget\u001b[0;34m(self, block, timeout)\u001b[0m\n\u001b[1;32m     92\u001b[0m         \u001b[0;32mif\u001b[0m \u001b[0mblock\u001b[0m \u001b[0;32mand\u001b[0m \u001b[0mtimeout\u001b[0m \u001b[0;32mis\u001b[0m \u001b[0;32mNone\u001b[0m\u001b[0;34m:\u001b[0m\u001b[0;34m\u001b[0m\u001b[0;34m\u001b[0m\u001b[0m\n\u001b[1;32m     93\u001b[0m             \u001b[0;32mwith\u001b[0m \u001b[0mself\u001b[0m\u001b[0;34m.\u001b[0m\u001b[0m_rlock\u001b[0m\u001b[0;34m:\u001b[0m\u001b[0;34m\u001b[0m\u001b[0;34m\u001b[0m\u001b[0m\n\u001b[0;32m---> 94\u001b[0;31m                 \u001b[0mres\u001b[0m \u001b[0;34m=\u001b[0m \u001b[0mself\u001b[0m\u001b[0;34m.\u001b[0m\u001b[0m_recv_bytes\u001b[0m\u001b[0;34m(\u001b[0m\u001b[0;34m)\u001b[0m\u001b[0;34m\u001b[0m\u001b[0;34m\u001b[0m\u001b[0m\n\u001b[0m\u001b[1;32m     95\u001b[0m             \u001b[0mself\u001b[0m\u001b[0;34m.\u001b[0m\u001b[0m_sem\u001b[0m\u001b[0;34m.\u001b[0m\u001b[0mrelease\u001b[0m\u001b[0;34m(\u001b[0m\u001b[0;34m)\u001b[0m\u001b[0;34m\u001b[0m\u001b[0;34m\u001b[0m\u001b[0m\n\u001b[1;32m     96\u001b[0m         \u001b[0;32melse\u001b[0m\u001b[0;34m:\u001b[0m\u001b[0;34m\u001b[0m\u001b[0;34m\u001b[0m\u001b[0m\n",
      "\u001b[0;32m/opt/conda/lib/python3.7/multiprocessing/connection.py\u001b[0m in \u001b[0;36mrecv_bytes\u001b[0;34m(self, maxlength)\u001b[0m\n\u001b[1;32m    214\u001b[0m         \u001b[0;32mif\u001b[0m \u001b[0mmaxlength\u001b[0m \u001b[0;32mis\u001b[0m \u001b[0;32mnot\u001b[0m \u001b[0;32mNone\u001b[0m \u001b[0;32mand\u001b[0m \u001b[0mmaxlength\u001b[0m \u001b[0;34m<\u001b[0m \u001b[0;36m0\u001b[0m\u001b[0;34m:\u001b[0m\u001b[0;34m\u001b[0m\u001b[0;34m\u001b[0m\u001b[0m\n\u001b[1;32m    215\u001b[0m             \u001b[0;32mraise\u001b[0m \u001b[0mValueError\u001b[0m\u001b[0;34m(\u001b[0m\u001b[0;34m\"negative maxlength\"\u001b[0m\u001b[0;34m)\u001b[0m\u001b[0;34m\u001b[0m\u001b[0;34m\u001b[0m\u001b[0m\n\u001b[0;32m--> 216\u001b[0;31m         \u001b[0mbuf\u001b[0m \u001b[0;34m=\u001b[0m \u001b[0mself\u001b[0m\u001b[0;34m.\u001b[0m\u001b[0m_recv_bytes\u001b[0m\u001b[0;34m(\u001b[0m\u001b[0mmaxlength\u001b[0m\u001b[0;34m)\u001b[0m\u001b[0;34m\u001b[0m\u001b[0;34m\u001b[0m\u001b[0m\n\u001b[0m\u001b[1;32m    217\u001b[0m         \u001b[0;32mif\u001b[0m \u001b[0mbuf\u001b[0m \u001b[0;32mis\u001b[0m \u001b[0;32mNone\u001b[0m\u001b[0;34m:\u001b[0m\u001b[0;34m\u001b[0m\u001b[0;34m\u001b[0m\u001b[0m\n\u001b[1;32m    218\u001b[0m             \u001b[0mself\u001b[0m\u001b[0;34m.\u001b[0m\u001b[0m_bad_message_length\u001b[0m\u001b[0;34m(\u001b[0m\u001b[0;34m)\u001b[0m\u001b[0;34m\u001b[0m\u001b[0;34m\u001b[0m\u001b[0m\n",
      "\u001b[0;32m/opt/conda/lib/python3.7/multiprocessing/connection.py\u001b[0m in \u001b[0;36m_recv_bytes\u001b[0;34m(self, maxsize)\u001b[0m\n\u001b[1;32m    405\u001b[0m \u001b[0;34m\u001b[0m\u001b[0m\n\u001b[1;32m    406\u001b[0m     \u001b[0;32mdef\u001b[0m \u001b[0m_recv_bytes\u001b[0m\u001b[0;34m(\u001b[0m\u001b[0mself\u001b[0m\u001b[0;34m,\u001b[0m \u001b[0mmaxsize\u001b[0m\u001b[0;34m=\u001b[0m\u001b[0;32mNone\u001b[0m\u001b[0;34m)\u001b[0m\u001b[0;34m:\u001b[0m\u001b[0;34m\u001b[0m\u001b[0;34m\u001b[0m\u001b[0m\n\u001b[0;32m--> 407\u001b[0;31m         \u001b[0mbuf\u001b[0m \u001b[0;34m=\u001b[0m \u001b[0mself\u001b[0m\u001b[0;34m.\u001b[0m\u001b[0m_recv\u001b[0m\u001b[0;34m(\u001b[0m\u001b[0;36m4\u001b[0m\u001b[0;34m)\u001b[0m\u001b[0;34m\u001b[0m\u001b[0;34m\u001b[0m\u001b[0m\n\u001b[0m\u001b[1;32m    408\u001b[0m         \u001b[0msize\u001b[0m\u001b[0;34m,\u001b[0m \u001b[0;34m=\u001b[0m \u001b[0mstruct\u001b[0m\u001b[0;34m.\u001b[0m\u001b[0munpack\u001b[0m\u001b[0;34m(\u001b[0m\u001b[0;34m\"!i\"\u001b[0m\u001b[0;34m,\u001b[0m \u001b[0mbuf\u001b[0m\u001b[0;34m.\u001b[0m\u001b[0mgetvalue\u001b[0m\u001b[0;34m(\u001b[0m\u001b[0;34m)\u001b[0m\u001b[0;34m)\u001b[0m\u001b[0;34m\u001b[0m\u001b[0;34m\u001b[0m\u001b[0m\n\u001b[1;32m    409\u001b[0m         \u001b[0;32mif\u001b[0m \u001b[0mmaxsize\u001b[0m \u001b[0;32mis\u001b[0m \u001b[0;32mnot\u001b[0m \u001b[0;32mNone\u001b[0m \u001b[0;32mand\u001b[0m \u001b[0msize\u001b[0m \u001b[0;34m>\u001b[0m \u001b[0mmaxsize\u001b[0m\u001b[0;34m:\u001b[0m\u001b[0;34m\u001b[0m\u001b[0;34m\u001b[0m\u001b[0m\n",
      "\u001b[0;32m/opt/conda/lib/python3.7/multiprocessing/connection.py\u001b[0m in \u001b[0;36m_recv\u001b[0;34m(self, size, read)\u001b[0m\n\u001b[1;32m    377\u001b[0m         \u001b[0mremaining\u001b[0m \u001b[0;34m=\u001b[0m \u001b[0msize\u001b[0m\u001b[0;34m\u001b[0m\u001b[0;34m\u001b[0m\u001b[0m\n\u001b[1;32m    378\u001b[0m         \u001b[0;32mwhile\u001b[0m \u001b[0mremaining\u001b[0m \u001b[0;34m>\u001b[0m \u001b[0;36m0\u001b[0m\u001b[0;34m:\u001b[0m\u001b[0;34m\u001b[0m\u001b[0;34m\u001b[0m\u001b[0m\n\u001b[0;32m--> 379\u001b[0;31m             \u001b[0mchunk\u001b[0m \u001b[0;34m=\u001b[0m \u001b[0mread\u001b[0m\u001b[0;34m(\u001b[0m\u001b[0mhandle\u001b[0m\u001b[0;34m,\u001b[0m \u001b[0mremaining\u001b[0m\u001b[0;34m)\u001b[0m\u001b[0;34m\u001b[0m\u001b[0;34m\u001b[0m\u001b[0m\n\u001b[0m\u001b[1;32m    380\u001b[0m             \u001b[0mn\u001b[0m \u001b[0;34m=\u001b[0m \u001b[0mlen\u001b[0m\u001b[0;34m(\u001b[0m\u001b[0mchunk\u001b[0m\u001b[0;34m)\u001b[0m\u001b[0;34m\u001b[0m\u001b[0;34m\u001b[0m\u001b[0m\n\u001b[1;32m    381\u001b[0m             \u001b[0;32mif\u001b[0m \u001b[0mn\u001b[0m \u001b[0;34m==\u001b[0m \u001b[0;36m0\u001b[0m\u001b[0;34m:\u001b[0m\u001b[0;34m\u001b[0m\u001b[0;34m\u001b[0m\u001b[0m\n",
      "\u001b[0;31mKeyboardInterrupt\u001b[0m: "
     ]
    },
    {
     "name": "stderr",
     "output_type": "stream",
     "text": [
      "Process Process-86:\n",
      "Traceback (most recent call last):\n",
      "  File \"/opt/conda/lib/python3.7/multiprocessing/process.py\", line 297, in _bootstrap\n",
      "    self.run()\n",
      "  File \"/opt/conda/lib/python3.7/multiprocessing/process.py\", line 99, in run\n",
      "    self._target(*self._args, **self._kwargs)\n",
      "  File \"<ipython-input-21-ac1fda131fe3>\", line 33, in method2\n",
      "    l2.put(get_B(smalis))\n",
      "  File \"<ipython-input-21-ac1fda131fe3>\", line 22, in get_B\n",
      "    B = construct_B(smalis)\n",
      "  File \"/datasets/home/home-02/58/458/yuc330/hindroid_replication/src/matrix.py\", line 123, in construct_B\n",
      "    blocks.dropna().apply(block2apis) #update B_dict\n",
      "  File \"/opt/conda/lib/python3.7/site-packages/pandas/core/series.py\", line 4038, in apply\n",
      "    mapped = lib.map_infer(values, f, convert=convert_dtype)\n",
      "  File \"pandas/_libs/lib.pyx\", line 2227, in pandas._libs.lib.map_infer\n",
      "  File \"/datasets/home/home-02/58/458/yuc330/hindroid_replication/src/matrix.py\", line 120, in block2apis\n",
      "    B_dict[api] = B_dict[api].union(apis)\n",
      "KeyboardInterrupt\n"
     ]
    }
   ],
   "source": [
    "l1 = Queue()\n",
    "p1 = Process(target=method1, args=(X_train, X_test, l1, ))\n",
    "l2 = Queue()\n",
    "p2 = Process(target=method2, args=(X_train, l2, ))\n",
    "p1.start()\n",
    "p2.start()\n",
    "A, A_test, P = l1.get()          \n",
    "B = l2.get()"
   ]
  },
  {
   "cell_type": "code",
   "execution_count": 20,
   "metadata": {},
   "outputs": [
    {
     "data": {
      "text/plain": [
       "<1377261x1377261 sparse matrix of type '<class 'numpy.int64'>'\n",
       "\twith 29857303 stored elements in Compressed Sparse Row format>"
      ]
     },
     "execution_count": 20,
     "metadata": {},
     "output_type": "execute_result"
    }
   ],
   "source": []
  },
  {
   "cell_type": "code",
   "execution_count": null,
   "metadata": {},
   "outputs": [],
   "source": [
    "A, A_test, B, P = construct_matrices(X_train, X_test)"
   ]
  },
  {
   "cell_type": "code",
   "execution_count": null,
   "metadata": {},
   "outputs": [],
   "source": [
    "save_matrix_to_file(A, 'output/A_analysis.npz') #save matrices to file\n",
    "save_matrix_to_file(B, 'output/B_analysis.npz')\n",
    "save_matrix_to_file(P, 'output/P_analysis.npz')\n",
    "save_matrix_to_file(A_test, 'output/A_test_analysis.npz')"
   ]
  },
  {
   "cell_type": "code",
   "execution_count": 13,
   "metadata": {},
   "outputs": [],
   "source": [
    "kernels_train = construct_kernel_train(A, B, P)\n",
    "kernels_test = construct_kernel_test(A, A_test, B, P)"
   ]
  },
  {
   "cell_type": "code",
   "execution_count": null,
   "metadata": {},
   "outputs": [],
   "source": [
    "train = []\n",
    "test = []\n",
    "for i in range(4):\n",
    "    d = train_test_svm(kernels_train[i].todense(), kernels_test[i].todense(), y_train, y_test)\n",
    "    train.append(d['train'])\n",
    "    test.append(d['test'])\n",
    "train_df = pd.DataFrame(train, columns=['tn', 'fp', 'fn', 'tp', 'acc', 'fnr'], index = np.array(['AA^t', 'ABA^t', 'APA^t', 'APBP^tA^t']))\n",
    "test_df = pd.DataFrame(test, columns=['tn', 'fp', 'fn', 'tp', 'acc', 'fnr'], index = np.array(['AA^t', 'ABA^t', 'APA^t', 'APBP^tA^t']))"
   ]
  },
  {
   "cell_type": "code",
   "execution_count": null,
   "metadata": {},
   "outputs": [],
   "source": [
    "train_df"
   ]
  },
  {
   "cell_type": "code",
   "execution_count": null,
   "metadata": {},
   "outputs": [],
   "source": [
    "test_df"
   ]
  },
  {
   "cell_type": "code",
   "execution_count": null,
   "metadata": {},
   "outputs": [],
   "source": []
  },
  {
   "cell_type": "code",
   "execution_count": null,
   "metadata": {},
   "outputs": [],
   "source": []
  },
  {
   "cell_type": "code",
   "execution_count": 38,
   "metadata": {},
   "outputs": [],
   "source": [
    "d = train_test_svm(A.dot(A.T).todense(), A_test.dot(A.T).todense(), y_train, y_test)"
   ]
  },
  {
   "cell_type": "code",
   "execution_count": 39,
   "metadata": {},
   "outputs": [
    {
     "data": {
      "text/plain": [
       "{'train': [204, 0, 0, 208, 1.0, 0.0],\n",
       " 'test': [103, 8, 1, 91, 0.9556650246305419, 0.010869565217391304]}"
      ]
     },
     "execution_count": 39,
     "metadata": {},
     "output_type": "execute_result"
    }
   ],
   "source": [
    "d"
   ]
  },
  {
   "cell_type": "code",
   "execution_count": null,
   "metadata": {},
   "outputs": [],
   "source": []
  }
 ],
 "metadata": {
  "kernelspec": {
   "display_name": "Python 3",
   "language": "python",
   "name": "python3"
  },
  "language_info": {
   "codemirror_mode": {
    "name": "ipython",
    "version": 3
   },
   "file_extension": ".py",
   "mimetype": "text/x-python",
   "name": "python",
   "nbconvert_exporter": "python",
   "pygments_lexer": "ipython3",
   "version": "3.7.3"
  }
 },
 "nbformat": 4,
 "nbformat_minor": 2
}
